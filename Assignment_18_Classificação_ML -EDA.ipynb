{
  "nbformat": 4,
  "nbformat_minor": 0,
  "metadata": {
    "colab": {
      "name": "Assignment 18 - Classificação ML.ipynb",
      "provenance": [],
      "collapsed_sections": [
        "rpAwfMjUAfO0",
        "bWRIHRFyCzhk",
        "ZoeZrdaMDfvq",
        "iwlNFHFuFXjz",
        "YPoZgs7FFtNq",
        "UeuuiBL2GsBj",
        "kC9PqqKPH7H4",
        "PjYTssTVInet",
        "xdnNXE_RI79t",
        "3hHz7w73JbQC",
        "rxdBwSlXKYov",
        "IM--ISd4K9jk",
        "IOoTWVuTMCwN",
        "cQvj4a0uMWeP",
        "bUMp_kllMr79",
        "X1tbgEaVQywK"
      ]
    },
    "kernelspec": {
      "name": "python3",
      "display_name": "Python 3"
    },
    "language_info": {
      "name": "python"
    }
  },
  "cells": [
    {
      "cell_type": "markdown",
      "metadata": {
        "id": "HzKxD7ph_xx6"
      },
      "source": [
        "# CONTEXTO\n",
        "Nesse assignment, nosso objetivo central é prever e desenvolver uma análise de um problema envolvendo a predição de doenças coronárias (do coração) utilizando um dataset público. Você deve realizar diversas etapas de análise, tanto de código quanto de explicação escrita do motivo pelo qual está fazendo aquilo para enriquecer seu Projeto. Lembrando que, ao longo do desenvolvimento do projeto, você deve responder algumas perguntas do assignment.\n",
        "\n",
        "# O PROJETO\n",
        "Pesquisadores coletaram diversas informações sobre pacientes que deram entradas em hospitais de Cleveland, EUA. Afirmando estarem com dores no peito. Dentre as diversas informações coletadas, é fornecido a você um dataset com 14 colunas (13\n",
        "características e 1 variável alvo) sobre 303 pacientes Você foi convocado pelo hospital da regional para desenvolver um sistema inteligente que, ao fornecer estes atributos, seu modelo mostra se o paciente tem ou não doenças coronárias.\n",
        "Dependendo do resultado do seu modelo, o paciente é encaminhado mais rapidamente para um especialista. Você deve então criar um modelo de Machine Learning com hiperparâmetros otimizados para o F1 Score (Uma métrica para\n",
        "problemas de classificação). Lembrando que ao longo da sua análise, introdução, EDA, transformações e modelagem, é importante ressaltar a ideia por trás da sua ação. Fazendo isso, enriquece ainda mais seu projeto e garante um entendimento melhor do leitor.\n",
        "\n",
        "#INFORMAÇÕES DO DATASET:\n",
        "- age: Idade (Anos)\n",
        "- sex: Sexo (1 = Masc e 0 = Fem)\n",
        "- cp: Nível de dor ( 1 a 4 )\n",
        "- trestbps: Pressão sanguínea em Repouso\n",
        "- chol: colesterol em mg/dl:\n",
        "- fbs: Fasting Blood Sugar (Teste diabético) > 120 mg/dl\n",
        "- restecg: Eletrocardiogramas em repouso (0,1 ou 2)\n",
        "- thalach: Ritmo cardíaco\n",
        "- exang: Exercício físico que gerou Angina\n",
        "- oldpeak: Depressão de ST induzida por exercício em relação ao\n",
        "repouso\n",
        "- slope: Tipo de inclinação do segmento ST de pico do exercício\n",
        "- ca: número de vasos sanguínios ressaltados (coloridos por\n",
        "fluoroscopia)\n",
        "- thal: Talassemia -> 3 = normal; 6 = fixed defect; 7 = reversable\n",
        "defect\n",
        "\n",
        "\n"
      ]
    },
    {
      "cell_type": "markdown",
      "metadata": {
        "id": "rpAwfMjUAfO0"
      },
      "source": [
        "#1. BLIBIOTECAS"
      ]
    },
    {
      "cell_type": "code",
      "metadata": {
        "id": "RBwgXJ0SAiA1"
      },
      "source": [
        "from pathlib import Path\n",
        "import progressbar as pb # Visualizar barra de progresso, bom para operações de longa duração\n",
        "import pandas as pd\n",
        "import numpy as np\n",
        "import random\n",
        "import matplotlib.pyplot as plt\n",
        "import seaborn as sns\n",
        "import warnings # supress warnings\n",
        "warnings.filterwarnings('always')\n",
        "warnings.filterwarnings('ignore')\n",
        "\n",
        "from sklearn.metrics.pairwise import cosine_similarity\n",
        "# Add some convenience functions to Pandas DataFrame.\n",
        "pd.options.display.max_rows = 10\n",
        "pd.options.display.float_format = '{:.3f}'.format\n",
        "\n",
        "sns.set(rc={'figure.figsize':(11.7,8.27)}) # isso é pras figuras ficarem maiores"
      ],
      "execution_count": 10,
      "outputs": []
    },
    {
      "cell_type": "markdown",
      "metadata": {
        "id": "AQJqbH8VAqp8"
      },
      "source": [
        "#2. Importando o dados e criando o dataset"
      ]
    },
    {
      "cell_type": "code",
      "metadata": {
        "colab": {
          "base_uri": "https://localhost:8080/"
        },
        "id": "w7X7qjjHArE_",
        "outputId": "75171368-40a2-4a43-e43f-3586e8dc57ef"
      },
      "source": [
        "%env KAGGLE_USERNAME = tomasmenegatto\n",
        "%env KAGGLE_KEY = 11458e6485cef3e20517783268b9afac\n",
        "\n",
        "!content/heart-disease-uci\n",
        "!kaggle datasets download -d ronitf/heart-disease-uci --unzip -p content/heart-disease-uci\n",
        "!ls content/heart-disease-uci\n",
        "\n",
        "DATA_PATH = Path(\"content/heart-disease-uci\")"
      ],
      "execution_count": 2,
      "outputs": [
        {
          "output_type": "stream",
          "name": "stdout",
          "text": [
            "env: KAGGLE_USERNAME=tomasmenegatto\n",
            "env: KAGGLE_KEY=11458e6485cef3e20517783268b9afac\n",
            "/bin/bash: content/heart-disease-uci: No such file or directory\n",
            "Downloading heart-disease-uci.zip to content/heart-disease-uci\n",
            "  0% 0.00/3.40k [00:00<?, ?B/s]\n",
            "100% 3.40k/3.40k [00:00<00:00, 2.82MB/s]\n",
            "heart.csv\n"
          ]
        }
      ]
    },
    {
      "cell_type": "code",
      "metadata": {
        "colab": {
          "base_uri": "https://localhost:8080/",
          "height": 359
        },
        "id": "kTZyn32iBQbC",
        "outputId": "b3342300-90c9-4239-c614-a54647b17fbc"
      },
      "source": [
        "df_original = pd.read_csv(DATA_PATH / 'heart.csv')\n",
        "df_original.head(10)"
      ],
      "execution_count": 4,
      "outputs": [
        {
          "output_type": "execute_result",
          "data": {
            "text/html": [
              "<div>\n",
              "<style scoped>\n",
              "    .dataframe tbody tr th:only-of-type {\n",
              "        vertical-align: middle;\n",
              "    }\n",
              "\n",
              "    .dataframe tbody tr th {\n",
              "        vertical-align: top;\n",
              "    }\n",
              "\n",
              "    .dataframe thead th {\n",
              "        text-align: right;\n",
              "    }\n",
              "</style>\n",
              "<table border=\"1\" class=\"dataframe\">\n",
              "  <thead>\n",
              "    <tr style=\"text-align: right;\">\n",
              "      <th></th>\n",
              "      <th>age</th>\n",
              "      <th>sex</th>\n",
              "      <th>cp</th>\n",
              "      <th>trestbps</th>\n",
              "      <th>chol</th>\n",
              "      <th>fbs</th>\n",
              "      <th>restecg</th>\n",
              "      <th>thalach</th>\n",
              "      <th>exang</th>\n",
              "      <th>oldpeak</th>\n",
              "      <th>slope</th>\n",
              "      <th>ca</th>\n",
              "      <th>thal</th>\n",
              "      <th>target</th>\n",
              "    </tr>\n",
              "  </thead>\n",
              "  <tbody>\n",
              "    <tr>\n",
              "      <th>0</th>\n",
              "      <td>63</td>\n",
              "      <td>1</td>\n",
              "      <td>3</td>\n",
              "      <td>145</td>\n",
              "      <td>233</td>\n",
              "      <td>1</td>\n",
              "      <td>0</td>\n",
              "      <td>150</td>\n",
              "      <td>0</td>\n",
              "      <td>2.300</td>\n",
              "      <td>0</td>\n",
              "      <td>0</td>\n",
              "      <td>1</td>\n",
              "      <td>1</td>\n",
              "    </tr>\n",
              "    <tr>\n",
              "      <th>1</th>\n",
              "      <td>37</td>\n",
              "      <td>1</td>\n",
              "      <td>2</td>\n",
              "      <td>130</td>\n",
              "      <td>250</td>\n",
              "      <td>0</td>\n",
              "      <td>1</td>\n",
              "      <td>187</td>\n",
              "      <td>0</td>\n",
              "      <td>3.500</td>\n",
              "      <td>0</td>\n",
              "      <td>0</td>\n",
              "      <td>2</td>\n",
              "      <td>1</td>\n",
              "    </tr>\n",
              "    <tr>\n",
              "      <th>2</th>\n",
              "      <td>41</td>\n",
              "      <td>0</td>\n",
              "      <td>1</td>\n",
              "      <td>130</td>\n",
              "      <td>204</td>\n",
              "      <td>0</td>\n",
              "      <td>0</td>\n",
              "      <td>172</td>\n",
              "      <td>0</td>\n",
              "      <td>1.400</td>\n",
              "      <td>2</td>\n",
              "      <td>0</td>\n",
              "      <td>2</td>\n",
              "      <td>1</td>\n",
              "    </tr>\n",
              "    <tr>\n",
              "      <th>3</th>\n",
              "      <td>56</td>\n",
              "      <td>1</td>\n",
              "      <td>1</td>\n",
              "      <td>120</td>\n",
              "      <td>236</td>\n",
              "      <td>0</td>\n",
              "      <td>1</td>\n",
              "      <td>178</td>\n",
              "      <td>0</td>\n",
              "      <td>0.800</td>\n",
              "      <td>2</td>\n",
              "      <td>0</td>\n",
              "      <td>2</td>\n",
              "      <td>1</td>\n",
              "    </tr>\n",
              "    <tr>\n",
              "      <th>4</th>\n",
              "      <td>57</td>\n",
              "      <td>0</td>\n",
              "      <td>0</td>\n",
              "      <td>120</td>\n",
              "      <td>354</td>\n",
              "      <td>0</td>\n",
              "      <td>1</td>\n",
              "      <td>163</td>\n",
              "      <td>1</td>\n",
              "      <td>0.600</td>\n",
              "      <td>2</td>\n",
              "      <td>0</td>\n",
              "      <td>2</td>\n",
              "      <td>1</td>\n",
              "    </tr>\n",
              "    <tr>\n",
              "      <th>5</th>\n",
              "      <td>57</td>\n",
              "      <td>1</td>\n",
              "      <td>0</td>\n",
              "      <td>140</td>\n",
              "      <td>192</td>\n",
              "      <td>0</td>\n",
              "      <td>1</td>\n",
              "      <td>148</td>\n",
              "      <td>0</td>\n",
              "      <td>0.400</td>\n",
              "      <td>1</td>\n",
              "      <td>0</td>\n",
              "      <td>1</td>\n",
              "      <td>1</td>\n",
              "    </tr>\n",
              "    <tr>\n",
              "      <th>6</th>\n",
              "      <td>56</td>\n",
              "      <td>0</td>\n",
              "      <td>1</td>\n",
              "      <td>140</td>\n",
              "      <td>294</td>\n",
              "      <td>0</td>\n",
              "      <td>0</td>\n",
              "      <td>153</td>\n",
              "      <td>0</td>\n",
              "      <td>1.300</td>\n",
              "      <td>1</td>\n",
              "      <td>0</td>\n",
              "      <td>2</td>\n",
              "      <td>1</td>\n",
              "    </tr>\n",
              "    <tr>\n",
              "      <th>7</th>\n",
              "      <td>44</td>\n",
              "      <td>1</td>\n",
              "      <td>1</td>\n",
              "      <td>120</td>\n",
              "      <td>263</td>\n",
              "      <td>0</td>\n",
              "      <td>1</td>\n",
              "      <td>173</td>\n",
              "      <td>0</td>\n",
              "      <td>0.000</td>\n",
              "      <td>2</td>\n",
              "      <td>0</td>\n",
              "      <td>3</td>\n",
              "      <td>1</td>\n",
              "    </tr>\n",
              "    <tr>\n",
              "      <th>8</th>\n",
              "      <td>52</td>\n",
              "      <td>1</td>\n",
              "      <td>2</td>\n",
              "      <td>172</td>\n",
              "      <td>199</td>\n",
              "      <td>1</td>\n",
              "      <td>1</td>\n",
              "      <td>162</td>\n",
              "      <td>0</td>\n",
              "      <td>0.500</td>\n",
              "      <td>2</td>\n",
              "      <td>0</td>\n",
              "      <td>3</td>\n",
              "      <td>1</td>\n",
              "    </tr>\n",
              "    <tr>\n",
              "      <th>9</th>\n",
              "      <td>57</td>\n",
              "      <td>1</td>\n",
              "      <td>2</td>\n",
              "      <td>150</td>\n",
              "      <td>168</td>\n",
              "      <td>0</td>\n",
              "      <td>1</td>\n",
              "      <td>174</td>\n",
              "      <td>0</td>\n",
              "      <td>1.600</td>\n",
              "      <td>2</td>\n",
              "      <td>0</td>\n",
              "      <td>2</td>\n",
              "      <td>1</td>\n",
              "    </tr>\n",
              "  </tbody>\n",
              "</table>\n",
              "</div>"
            ],
            "text/plain": [
              "   age  sex  cp  trestbps  chol  fbs  ...  exang  oldpeak  slope  ca  thal  target\n",
              "0   63    1   3       145   233    1  ...      0    2.300      0   0     1       1\n",
              "1   37    1   2       130   250    0  ...      0    3.500      0   0     2       1\n",
              "2   41    0   1       130   204    0  ...      0    1.400      2   0     2       1\n",
              "3   56    1   1       120   236    0  ...      0    0.800      2   0     2       1\n",
              "4   57    0   0       120   354    0  ...      1    0.600      2   0     2       1\n",
              "5   57    1   0       140   192    0  ...      0    0.400      1   0     1       1\n",
              "6   56    0   1       140   294    0  ...      0    1.300      1   0     2       1\n",
              "7   44    1   1       120   263    0  ...      0    0.000      2   0     3       1\n",
              "8   52    1   2       172   199    1  ...      0    0.500      2   0     3       1\n",
              "9   57    1   2       150   168    0  ...      0    1.600      2   0     2       1\n",
              "\n",
              "[10 rows x 14 columns]"
            ]
          },
          "metadata": {},
          "execution_count": 4
        }
      ]
    },
    {
      "cell_type": "markdown",
      "metadata": {
        "id": "MPAsBLi8ArUf"
      },
      "source": [
        "#3. EDA (Análise Exploratória dos Dados)"
      ]
    },
    {
      "cell_type": "code",
      "metadata": {
        "colab": {
          "base_uri": "https://localhost:8080/",
          "height": 297
        },
        "id": "_5Kdd6T0A1Jk",
        "outputId": "8e5d5903-88e1-4e58-f59e-1aa541c76286"
      },
      "source": [
        "df = df_original.copy()\n",
        "df.describe()\n",
        "\n",
        "# As colunas Trestbps, chol, thalach possuem desvio padrão muito alto\n",
        "# Médias próximas das medianas"
      ],
      "execution_count": 6,
      "outputs": [
        {
          "output_type": "execute_result",
          "data": {
            "text/html": [
              "<div>\n",
              "<style scoped>\n",
              "    .dataframe tbody tr th:only-of-type {\n",
              "        vertical-align: middle;\n",
              "    }\n",
              "\n",
              "    .dataframe tbody tr th {\n",
              "        vertical-align: top;\n",
              "    }\n",
              "\n",
              "    .dataframe thead th {\n",
              "        text-align: right;\n",
              "    }\n",
              "</style>\n",
              "<table border=\"1\" class=\"dataframe\">\n",
              "  <thead>\n",
              "    <tr style=\"text-align: right;\">\n",
              "      <th></th>\n",
              "      <th>age</th>\n",
              "      <th>sex</th>\n",
              "      <th>cp</th>\n",
              "      <th>trestbps</th>\n",
              "      <th>chol</th>\n",
              "      <th>fbs</th>\n",
              "      <th>restecg</th>\n",
              "      <th>thalach</th>\n",
              "      <th>exang</th>\n",
              "      <th>oldpeak</th>\n",
              "      <th>slope</th>\n",
              "      <th>ca</th>\n",
              "      <th>thal</th>\n",
              "      <th>target</th>\n",
              "    </tr>\n",
              "  </thead>\n",
              "  <tbody>\n",
              "    <tr>\n",
              "      <th>count</th>\n",
              "      <td>303.000</td>\n",
              "      <td>303.000</td>\n",
              "      <td>303.000</td>\n",
              "      <td>303.000</td>\n",
              "      <td>303.000</td>\n",
              "      <td>303.000</td>\n",
              "      <td>303.000</td>\n",
              "      <td>303.000</td>\n",
              "      <td>303.000</td>\n",
              "      <td>303.000</td>\n",
              "      <td>303.000</td>\n",
              "      <td>303.000</td>\n",
              "      <td>303.000</td>\n",
              "      <td>303.000</td>\n",
              "    </tr>\n",
              "    <tr>\n",
              "      <th>mean</th>\n",
              "      <td>54.366</td>\n",
              "      <td>0.683</td>\n",
              "      <td>0.967</td>\n",
              "      <td>131.624</td>\n",
              "      <td>246.264</td>\n",
              "      <td>0.149</td>\n",
              "      <td>0.528</td>\n",
              "      <td>149.647</td>\n",
              "      <td>0.327</td>\n",
              "      <td>1.040</td>\n",
              "      <td>1.399</td>\n",
              "      <td>0.729</td>\n",
              "      <td>2.314</td>\n",
              "      <td>0.545</td>\n",
              "    </tr>\n",
              "    <tr>\n",
              "      <th>std</th>\n",
              "      <td>9.082</td>\n",
              "      <td>0.466</td>\n",
              "      <td>1.032</td>\n",
              "      <td>17.538</td>\n",
              "      <td>51.831</td>\n",
              "      <td>0.356</td>\n",
              "      <td>0.526</td>\n",
              "      <td>22.905</td>\n",
              "      <td>0.470</td>\n",
              "      <td>1.161</td>\n",
              "      <td>0.616</td>\n",
              "      <td>1.023</td>\n",
              "      <td>0.612</td>\n",
              "      <td>0.499</td>\n",
              "    </tr>\n",
              "    <tr>\n",
              "      <th>min</th>\n",
              "      <td>29.000</td>\n",
              "      <td>0.000</td>\n",
              "      <td>0.000</td>\n",
              "      <td>94.000</td>\n",
              "      <td>126.000</td>\n",
              "      <td>0.000</td>\n",
              "      <td>0.000</td>\n",
              "      <td>71.000</td>\n",
              "      <td>0.000</td>\n",
              "      <td>0.000</td>\n",
              "      <td>0.000</td>\n",
              "      <td>0.000</td>\n",
              "      <td>0.000</td>\n",
              "      <td>0.000</td>\n",
              "    </tr>\n",
              "    <tr>\n",
              "      <th>25%</th>\n",
              "      <td>47.500</td>\n",
              "      <td>0.000</td>\n",
              "      <td>0.000</td>\n",
              "      <td>120.000</td>\n",
              "      <td>211.000</td>\n",
              "      <td>0.000</td>\n",
              "      <td>0.000</td>\n",
              "      <td>133.500</td>\n",
              "      <td>0.000</td>\n",
              "      <td>0.000</td>\n",
              "      <td>1.000</td>\n",
              "      <td>0.000</td>\n",
              "      <td>2.000</td>\n",
              "      <td>0.000</td>\n",
              "    </tr>\n",
              "    <tr>\n",
              "      <th>50%</th>\n",
              "      <td>55.000</td>\n",
              "      <td>1.000</td>\n",
              "      <td>1.000</td>\n",
              "      <td>130.000</td>\n",
              "      <td>240.000</td>\n",
              "      <td>0.000</td>\n",
              "      <td>1.000</td>\n",
              "      <td>153.000</td>\n",
              "      <td>0.000</td>\n",
              "      <td>0.800</td>\n",
              "      <td>1.000</td>\n",
              "      <td>0.000</td>\n",
              "      <td>2.000</td>\n",
              "      <td>1.000</td>\n",
              "    </tr>\n",
              "    <tr>\n",
              "      <th>75%</th>\n",
              "      <td>61.000</td>\n",
              "      <td>1.000</td>\n",
              "      <td>2.000</td>\n",
              "      <td>140.000</td>\n",
              "      <td>274.500</td>\n",
              "      <td>0.000</td>\n",
              "      <td>1.000</td>\n",
              "      <td>166.000</td>\n",
              "      <td>1.000</td>\n",
              "      <td>1.600</td>\n",
              "      <td>2.000</td>\n",
              "      <td>1.000</td>\n",
              "      <td>3.000</td>\n",
              "      <td>1.000</td>\n",
              "    </tr>\n",
              "    <tr>\n",
              "      <th>max</th>\n",
              "      <td>77.000</td>\n",
              "      <td>1.000</td>\n",
              "      <td>3.000</td>\n",
              "      <td>200.000</td>\n",
              "      <td>564.000</td>\n",
              "      <td>1.000</td>\n",
              "      <td>2.000</td>\n",
              "      <td>202.000</td>\n",
              "      <td>1.000</td>\n",
              "      <td>6.200</td>\n",
              "      <td>2.000</td>\n",
              "      <td>4.000</td>\n",
              "      <td>3.000</td>\n",
              "      <td>1.000</td>\n",
              "    </tr>\n",
              "  </tbody>\n",
              "</table>\n",
              "</div>"
            ],
            "text/plain": [
              "          age     sex      cp  trestbps  ...   slope      ca    thal  target\n",
              "count 303.000 303.000 303.000   303.000  ... 303.000 303.000 303.000 303.000\n",
              "mean   54.366   0.683   0.967   131.624  ...   1.399   0.729   2.314   0.545\n",
              "std     9.082   0.466   1.032    17.538  ...   0.616   1.023   0.612   0.499\n",
              "min    29.000   0.000   0.000    94.000  ...   0.000   0.000   0.000   0.000\n",
              "25%    47.500   0.000   0.000   120.000  ...   1.000   0.000   2.000   0.000\n",
              "50%    55.000   1.000   1.000   130.000  ...   1.000   0.000   2.000   1.000\n",
              "75%    61.000   1.000   2.000   140.000  ...   2.000   1.000   3.000   1.000\n",
              "max    77.000   1.000   3.000   200.000  ...   2.000   4.000   3.000   1.000\n",
              "\n",
              "[8 rows x 14 columns]"
            ]
          },
          "metadata": {},
          "execution_count": 6
        }
      ]
    },
    {
      "cell_type": "code",
      "metadata": {
        "colab": {
          "base_uri": "https://localhost:8080/"
        },
        "id": "UGmBbF05Cbcz",
        "outputId": "92f3193c-beec-41ae-f17d-ac5ff92eeb7f"
      },
      "source": [
        "df.info()\n",
        "\n",
        "# Não há valores nulo no dataset\n",
        "# Apenas uma variável não é inteira\n",
        "# Nenhuma coluna declarada como categórica"
      ],
      "execution_count": 7,
      "outputs": [
        {
          "output_type": "stream",
          "name": "stdout",
          "text": [
            "<class 'pandas.core.frame.DataFrame'>\n",
            "RangeIndex: 303 entries, 0 to 302\n",
            "Data columns (total 14 columns):\n",
            " #   Column    Non-Null Count  Dtype  \n",
            "---  ------    --------------  -----  \n",
            " 0   age       303 non-null    int64  \n",
            " 1   sex       303 non-null    int64  \n",
            " 2   cp        303 non-null    int64  \n",
            " 3   trestbps  303 non-null    int64  \n",
            " 4   chol      303 non-null    int64  \n",
            " 5   fbs       303 non-null    int64  \n",
            " 6   restecg   303 non-null    int64  \n",
            " 7   thalach   303 non-null    int64  \n",
            " 8   exang     303 non-null    int64  \n",
            " 9   oldpeak   303 non-null    float64\n",
            " 10  slope     303 non-null    int64  \n",
            " 11  ca        303 non-null    int64  \n",
            " 12  thal      303 non-null    int64  \n",
            " 13  target    303 non-null    int64  \n",
            "dtypes: float64(1), int64(13)\n",
            "memory usage: 33.3 KB\n"
          ]
        }
      ]
    },
    {
      "cell_type": "code",
      "metadata": {
        "colab": {
          "base_uri": "https://localhost:8080/"
        },
        "id": "v-TwXGRjDIk6",
        "outputId": "57cc3f73-4e82-4ede-9e5d-c23a072fabeb"
      },
      "source": [
        "df.shape"
      ],
      "execution_count": 8,
      "outputs": [
        {
          "output_type": "execute_result",
          "data": {
            "text/plain": [
              "(303, 14)"
            ]
          },
          "metadata": {},
          "execution_count": 8
        }
      ]
    },
    {
      "cell_type": "markdown",
      "metadata": {
        "id": "bWRIHRFyCzhk"
      },
      "source": [
        "##3.1. Coluna Age\n",
        "Traz a idade dos pacientes em anos"
      ]
    },
    {
      "cell_type": "markdown",
      "metadata": {
        "id": "ZoeZrdaMDfvq"
      },
      "source": [
        "###3.1.1. Histograma"
      ]
    },
    {
      "cell_type": "code",
      "metadata": {
        "colab": {
          "base_uri": "https://localhost:8080/",
          "height": 534
        },
        "id": "p6sfyVj7De-h",
        "outputId": "15be40ed-92ad-4092-e8d3-c116864034cf"
      },
      "source": [
        "sns.histplot(x='age', data=df)\n",
        "\n",
        "# Dados relativamente bem distruídos, média de idade elevada."
      ],
      "execution_count": 11,
      "outputs": [
        {
          "output_type": "execute_result",
          "data": {
            "text/plain": [
              "<matplotlib.axes._subplots.AxesSubplot at 0x7fd9a40d6150>"
            ]
          },
          "metadata": {},
          "execution_count": 11
        },
        {
          "output_type": "display_data",
          "data": {
            "image/png": "[encoded data removed]",
            "text/plain": [
              "<Figure size 842.4x595.44 with 1 Axes>"
            ]
          },
          "metadata": {}
        }
      ]
    },
    {
      "cell_type": "markdown",
      "metadata": {
        "id": "WkTEUGIwEZT3"
      },
      "source": [
        "###3.1.2. Boxplot"
      ]
    },
    {
      "cell_type": "code",
      "metadata": {
        "colab": {
          "base_uri": "https://localhost:8080/",
          "height": 534
        },
        "id": "Wh6jmTAaEdLC",
        "outputId": "229f9e3f-0625-48fe-f13b-bda5884295e8"
      },
      "source": [
        "sns.boxplot(x='target', y='age', data=df)"
      ],
      "execution_count": 39,
      "outputs": [
        {
          "output_type": "execute_result",
          "data": {
            "text/plain": [
              "<matplotlib.axes._subplots.AxesSubplot at 0x7fd9a297c250>"
            ]
          },
          "metadata": {},
          "execution_count": 39
        },
        {
          "output_type": "display_data",
          "data": {
            "image/png": "[encoded data removed]",
            "text/plain": [
              "<Figure size 842.4x595.44 with 1 Axes>"
            ]
          },
          "metadata": {}
        }
      ]
    },
    {
      "cell_type": "markdown",
      "metadata": {
        "id": "V6vMAEQ0ESXx"
      },
      "source": [
        "###3.1.3. Frequência das idades"
      ]
    },
    {
      "cell_type": "code",
      "metadata": {
        "colab": {
          "base_uri": "https://localhost:8080/"
        },
        "id": "yJVHN8zeEB9u",
        "outputId": "dfec23a8-f386-4d09-e23a-aeda9c293178"
      },
      "source": [
        "df['age'].value_counts()\n",
        "\n",
        "# A maioria dos pacientes possuem entre 50 e 60 anos."
      ],
      "execution_count": 12,
      "outputs": [
        {
          "output_type": "execute_result",
          "data": {
            "text/plain": [
              "58    19\n",
              "57    17\n",
              "54    16\n",
              "59    14\n",
              "52    13\n",
              "      ..\n",
              "37     2\n",
              "77     1\n",
              "76     1\n",
              "74     1\n",
              "29     1\n",
              "Name: age, Length: 41, dtype: int64"
            ]
          },
          "metadata": {},
          "execution_count": 12
        }
      ]
    },
    {
      "cell_type": "markdown",
      "metadata": {
        "id": "iwlNFHFuFXjz"
      },
      "source": [
        "##3.2. Coluna Sex\n",
        "Sexo (1 = Masc e 0 = Fem)"
      ]
    },
    {
      "cell_type": "code",
      "metadata": {
        "colab": {
          "base_uri": "https://localhost:8080/"
        },
        "id": "menxSzR3FcjV",
        "outputId": "a6c66aee-c583-41d9-bc8b-e1efcf854a22"
      },
      "source": [
        "df['sex'].value_counts()\n",
        "\n",
        "# Aproximadamente 66% dos pacientes são homens"
      ],
      "execution_count": 14,
      "outputs": [
        {
          "output_type": "execute_result",
          "data": {
            "text/plain": [
              "1    207\n",
              "0     96\n",
              "Name: sex, dtype: int64"
            ]
          },
          "metadata": {},
          "execution_count": 14
        }
      ]
    },
    {
      "cell_type": "markdown",
      "metadata": {
        "id": "YPoZgs7FFtNq"
      },
      "source": [
        "##3.3. Coluna Cp\n",
        "Nível de dor ( 1 a 4 )"
      ]
    },
    {
      "cell_type": "code",
      "metadata": {
        "colab": {
          "base_uri": "https://localhost:8080/"
        },
        "id": "wn3OdSwwC3rM",
        "outputId": "eafaa403-ba8c-4835-e022-7b9ef014ac5a"
      },
      "source": [
        "df['cp'].value_counts()\n",
        "\n",
        "# Na descrição da varíavel o nível da dor deveria variar entre 1 a 4, entretanto está variando entre 0 e 3\n",
        "# 50% dos dados são de pacientes que estavam com um nível baixo de dor"
      ],
      "execution_count": 16,
      "outputs": [
        {
          "output_type": "execute_result",
          "data": {
            "text/plain": [
              "0    143\n",
              "2     87\n",
              "1     50\n",
              "3     23\n",
              "Name: cp, dtype: int64"
            ]
          },
          "metadata": {},
          "execution_count": 16
        }
      ]
    },
    {
      "cell_type": "markdown",
      "metadata": {
        "id": "UeuuiBL2GsBj"
      },
      "source": [
        "##3.4. Coluna Trestbps\n",
        "Pressão sanguínea em Repouso"
      ]
    },
    {
      "cell_type": "markdown",
      "metadata": {
        "id": "MN7LI_6zG7mf"
      },
      "source": [
        "###3.4.1. Histograma"
      ]
    },
    {
      "cell_type": "code",
      "metadata": {
        "colab": {
          "base_uri": "https://localhost:8080/",
          "height": 534
        },
        "id": "zX4beXaPG-S3",
        "outputId": "985e5d7d-7184-4abd-cced-b6b59e56f61a"
      },
      "source": [
        "sns.histplot(x='trestbps', data=df)\n",
        "\n",
        "# Presença de outliers, dados não estão muito bem distribuídos"
      ],
      "execution_count": 18,
      "outputs": [
        {
          "output_type": "execute_result",
          "data": {
            "text/plain": [
              "<matplotlib.axes._subplots.AxesSubplot at 0x7fd9a2dea610>"
            ]
          },
          "metadata": {},
          "execution_count": 18
        },
        {
          "output_type": "display_data",
          "data": {
            "image/png": "[encoded data removed]",
            "text/plain": [
              "<Figure size 842.4x595.44 with 1 Axes>"
            ]
          },
          "metadata": {}
        }
      ]
    },
    {
      "cell_type": "markdown",
      "metadata": {
        "id": "Hssl-8T4HOJ3"
      },
      "source": [
        "###3.4.2. Boxplot"
      ]
    },
    {
      "cell_type": "code",
      "metadata": {
        "colab": {
          "base_uri": "https://localhost:8080/",
          "height": 534
        },
        "id": "yabzpwR6HQNd",
        "outputId": "e731b666-9c40-4425-9bd4-829c17d1955b"
      },
      "source": [
        "sns.boxplot(x='target', y='trestbps', data=df)\n",
        "\n",
        "# Possui outliers tanto para caso possitivo quanto negativo"
      ],
      "execution_count": 40,
      "outputs": [
        {
          "output_type": "execute_result",
          "data": {
            "text/plain": [
              "<matplotlib.axes._subplots.AxesSubplot at 0x7fd9a289aed0>"
            ]
          },
          "metadata": {},
          "execution_count": 40
        },
        {
          "output_type": "display_data",
          "data": {
            "image/png": "[encoded data removed]",
            "text/plain": [
              "<Figure size 842.4x595.44 with 1 Axes>"
            ]
          },
          "metadata": {}
        }
      ]
    },
    {
      "cell_type": "code",
      "metadata": {
        "colab": {
          "base_uri": "https://localhost:8080/"
        },
        "id": "oTCU4lZ6G0ec",
        "outputId": "b3773087-10e7-45b5-fe38-fe3d57427a3e"
      },
      "source": [
        "df['trestbps'].value_counts()\n",
        "\n",
        "# Pressão sanguíneas mais comuns são de 120, 130 e 140"
      ],
      "execution_count": 21,
      "outputs": [
        {
          "output_type": "execute_result",
          "data": {
            "text/plain": [
              "120    37\n",
              "130    36\n",
              "140    32\n",
              "110    19\n",
              "150    17\n",
              "       ..\n",
              "155     1\n",
              "117     1\n",
              "154     1\n",
              "123     1\n",
              "200     1\n",
              "Name: trestbps, Length: 49, dtype: int64"
            ]
          },
          "metadata": {},
          "execution_count": 21
        }
      ]
    },
    {
      "cell_type": "markdown",
      "metadata": {
        "id": "kC9PqqKPH7H4"
      },
      "source": [
        "##3.5. Coluna Chol\n",
        "Colesterol em mg/dl"
      ]
    },
    {
      "cell_type": "markdown",
      "metadata": {
        "id": "Vx4nnd--IGfN"
      },
      "source": [
        "###3.5.1. Histograma"
      ]
    },
    {
      "cell_type": "code",
      "metadata": {
        "colab": {
          "base_uri": "https://localhost:8080/",
          "height": 534
        },
        "id": "PeBKx1TKIIPv",
        "outputId": "9791e1ea-489a-4d22-8555-4c0f23766d30"
      },
      "source": [
        "sns.histplot(x='chol', data=df)\n",
        "\n",
        "# Presença de outliers\n",
        "# Se eliminarmos os dados maiores que 350, os dados são bem distribuídos"
      ],
      "execution_count": 22,
      "outputs": [
        {
          "output_type": "execute_result",
          "data": {
            "text/plain": [
              "<matplotlib.axes._subplots.AxesSubplot at 0x7fd9a2cd3950>"
            ]
          },
          "metadata": {},
          "execution_count": 22
        },
        {
          "output_type": "display_data",
          "data": {
            "image/png": "[encoded data removed]",
            "text/plain": [
              "<Figure size 842.4x595.44 with 1 Axes>"
            ]
          },
          "metadata": {}
        }
      ]
    },
    {
      "cell_type": "markdown",
      "metadata": {
        "id": "l9wsMhjqIUW2"
      },
      "source": [
        "###3.5.2. Boxplot"
      ]
    },
    {
      "cell_type": "code",
      "metadata": {
        "colab": {
          "base_uri": "https://localhost:8080/",
          "height": 534
        },
        "id": "IRE9JT6TIXQT",
        "outputId": "ce4f2083-be56-45a7-f9ad-b9b0c7848d2d"
      },
      "source": [
        "sns.boxplot(x='target', y='chol', data=df)\n",
        "\n",
        "# Possui alguns outliers para casos negativos e muito outliers para casos positivos, pode ser uma problema para o modelo.\n"
      ],
      "execution_count": 41,
      "outputs": [
        {
          "output_type": "execute_result",
          "data": {
            "text/plain": [
              "<matplotlib.axes._subplots.AxesSubplot at 0x7fd9a2794910>"
            ]
          },
          "metadata": {},
          "execution_count": 41
        },
        {
          "output_type": "display_data",
          "data": {
            "image/png": "[encoded data removed]",
            "text/plain": [
              "<Figure size 842.4x595.44 with 1 Axes>"
            ]
          },
          "metadata": {}
        }
      ]
    },
    {
      "cell_type": "markdown",
      "metadata": {
        "id": "PjYTssTVInet"
      },
      "source": [
        "##3.6. Coluna fbs\n",
        "Fasting Blood Sugar (Teste diabético) > 120 mg/dl"
      ]
    },
    {
      "cell_type": "code",
      "metadata": {
        "colab": {
          "base_uri": "https://localhost:8080/"
        },
        "id": "6CuxwY4_IxbD",
        "outputId": "1049d173-82dd-4ea9-e636-896d2d782e5a"
      },
      "source": [
        "df['fbs'].value_counts()\n",
        "\n",
        "# Apenas 15% dos pacientes do banco de dados são diabéticos.\n"
      ],
      "execution_count": 25,
      "outputs": [
        {
          "output_type": "execute_result",
          "data": {
            "text/plain": [
              "0    258\n",
              "1     45\n",
              "Name: fbs, dtype: int64"
            ]
          },
          "metadata": {},
          "execution_count": 25
        }
      ]
    },
    {
      "cell_type": "markdown",
      "metadata": {
        "id": "xdnNXE_RI79t"
      },
      "source": [
        "##3.7. Coluna restecg\n",
        "Eletrocardiogramas em repouso (0,1 ou 2)"
      ]
    },
    {
      "cell_type": "code",
      "metadata": {
        "colab": {
          "base_uri": "https://localhost:8080/"
        },
        "id": "lua5A-kyJD8O",
        "outputId": "d825749b-728a-4b44-b9a8-59b9a37db5ad"
      },
      "source": [
        "df['restecg'].value_counts()\n",
        "\n",
        "# Apenas 4 pacientes (1% do dataset) possuiam 2 eletrocardiogramas em repouso\n",
        "# O número de pacientes com 1 eletrocariograma é próximo do número de pacientes com nenhum eletrocariograma"
      ],
      "execution_count": 26,
      "outputs": [
        {
          "output_type": "execute_result",
          "data": {
            "text/plain": [
              "1    152\n",
              "0    147\n",
              "2      4\n",
              "Name: restecg, dtype: int64"
            ]
          },
          "metadata": {},
          "execution_count": 26
        }
      ]
    },
    {
      "cell_type": "markdown",
      "metadata": {
        "id": "3hHz7w73JbQC"
      },
      "source": [
        "##3.8. Coluna thalach\n",
        "Ritmo cardíaco"
      ]
    },
    {
      "cell_type": "markdown",
      "metadata": {
        "id": "FaLhKXLdJn_X"
      },
      "source": [
        "###3.8.1. Histograma"
      ]
    },
    {
      "cell_type": "code",
      "metadata": {
        "colab": {
          "base_uri": "https://localhost:8080/",
          "height": 534
        },
        "id": "2cZKphwyJqLt",
        "outputId": "c36e5509-bc15-45f8-c768-e1cc7e058d35"
      },
      "source": [
        "sns.histplot(x='thalach', data=df)\n",
        "\n",
        "# Possível presença de outliers\n",
        "# Dados são estão muito bem distribuídos\n"
      ],
      "execution_count": 28,
      "outputs": [
        {
          "output_type": "execute_result",
          "data": {
            "text/plain": [
              "<matplotlib.axes._subplots.AxesSubplot at 0x7fd9a2b60650>"
            ]
          },
          "metadata": {},
          "execution_count": 28
        },
        {
          "output_type": "display_data",
          "data": {
            "image/png": "[encoded data removed]",
            "text/plain": [
              "<Figure size 842.4x595.44 with 1 Axes>"
            ]
          },
          "metadata": {}
        }
      ]
    },
    {
      "cell_type": "markdown",
      "metadata": {
        "id": "q7buXRKHJ9FA"
      },
      "source": [
        "###3.8.2. Boxplot"
      ]
    },
    {
      "cell_type": "code",
      "metadata": {
        "colab": {
          "base_uri": "https://localhost:8080/",
          "height": 534
        },
        "id": "ADB7Q1_fKBOQ",
        "outputId": "bcb5e8b3-11e8-4cd9-ef40-97910b81ffd5"
      },
      "source": [
        "sns.boxplot(x='target', y='thalach', data=df)\n",
        "\n",
        "# Casos positivos aparentam ter thalach mais alto. Pode ajudar no modelo."
      ],
      "execution_count": 42,
      "outputs": [
        {
          "output_type": "execute_result",
          "data": {
            "text/plain": [
              "<matplotlib.axes._subplots.AxesSubplot at 0x7fd9a27b8510>"
            ]
          },
          "metadata": {},
          "execution_count": 42
        },
        {
          "output_type": "display_data",
          "data": {
            "image/png": "[encoded data removed]",
            "text/plain": [
              "<Figure size 842.4x595.44 with 1 Axes>"
            ]
          },
          "metadata": {}
        }
      ]
    },
    {
      "cell_type": "markdown",
      "metadata": {
        "id": "Yoyt4lYbKMkO"
      },
      "source": [
        "###3.8.3. Frequência"
      ]
    },
    {
      "cell_type": "code",
      "metadata": {
        "colab": {
          "base_uri": "https://localhost:8080/"
        },
        "id": "i5wdwlR-Ji3T",
        "outputId": "1b43b64c-1f74-4f03-a382-a78b9205f6a2"
      },
      "source": [
        "df['thalach'].value_counts()\n",
        "\n",
        "# Não há uma concentração tão grande em uma mesmo valor\n"
      ],
      "execution_count": 27,
      "outputs": [
        {
          "output_type": "execute_result",
          "data": {
            "text/plain": [
              "162    11\n",
              "160     9\n",
              "163     9\n",
              "173     8\n",
              "152     8\n",
              "       ..\n",
              "129     1\n",
              "128     1\n",
              "127     1\n",
              "124     1\n",
              "71      1\n",
              "Name: thalach, Length: 91, dtype: int64"
            ]
          },
          "metadata": {},
          "execution_count": 27
        }
      ]
    },
    {
      "cell_type": "markdown",
      "metadata": {
        "id": "rxdBwSlXKYov"
      },
      "source": [
        "##3.9. Coluna exang\n",
        "Exercício físico que gerou Angina"
      ]
    },
    {
      "cell_type": "code",
      "metadata": {
        "colab": {
          "base_uri": "https://localhost:8080/"
        },
        "id": "9lHbo_dMKimv",
        "outputId": "4da7e4de-a440-4705-bcb4-cb41261102c9"
      },
      "source": [
        "df['exang'].value_counts()\n",
        "\n",
        "# 66% do banco de dados não teve exercício físico que gerou Angina\n"
      ],
      "execution_count": 30,
      "outputs": [
        {
          "output_type": "execute_result",
          "data": {
            "text/plain": [
              "0    204\n",
              "1     99\n",
              "Name: exang, dtype: int64"
            ]
          },
          "metadata": {},
          "execution_count": 30
        }
      ]
    },
    {
      "cell_type": "markdown",
      "metadata": {
        "id": "IM--ISd4K9jk"
      },
      "source": [
        "##3.10. Coluna oldpeak\n",
        "Depressão de ST induzida por exercício em relação ao repouso"
      ]
    },
    {
      "cell_type": "markdown",
      "metadata": {
        "id": "LGpd-alqLK3-"
      },
      "source": [
        "###3.10.1. Histrograma"
      ]
    },
    {
      "cell_type": "code",
      "metadata": {
        "colab": {
          "base_uri": "https://localhost:8080/",
          "height": 534
        },
        "id": "Sx-NfL8rLM7Z",
        "outputId": "172f4397-e301-46b7-a996-dedcf3c324b5"
      },
      "source": [
        "sns.histplot(x='oldpeak', data=df)\n",
        "\n",
        "# Imensa maioria do dataset possui valores baixos.\n"
      ],
      "execution_count": 33,
      "outputs": [
        {
          "output_type": "execute_result",
          "data": {
            "text/plain": [
              "<matplotlib.axes._subplots.AxesSubplot at 0x7fd9a2cb3bd0>"
            ]
          },
          "metadata": {},
          "execution_count": 33
        },
        {
          "output_type": "display_data",
          "data": {
            "image/png": "[encoded data removed]",
            "text/plain": [
              "<Figure size 842.4x595.44 with 1 Axes>"
            ]
          },
          "metadata": {}
        }
      ]
    },
    {
      "cell_type": "markdown",
      "metadata": {
        "id": "qvHn15euLhRT"
      },
      "source": [
        "###3.10.2. Boxplot"
      ]
    },
    {
      "cell_type": "code",
      "metadata": {
        "colab": {
          "base_uri": "https://localhost:8080/",
          "height": 534
        },
        "id": "DspJmyrwLjJs",
        "outputId": "d74888ed-c3c1-404a-eb5f-9a764bff2085"
      },
      "source": [
        "sns.boxplot(x='target', y='oldpeak', data=df)\n",
        "\n",
        "# Presença de outliers nos dois casos.\n",
        "# Casos negativos aparentem ter oldpeak maior.\n"
      ],
      "execution_count": 43,
      "outputs": [
        {
          "output_type": "execute_result",
          "data": {
            "text/plain": [
              "<matplotlib.axes._subplots.AxesSubplot at 0x7fd9a2826d10>"
            ]
          },
          "metadata": {},
          "execution_count": 43
        },
        {
          "output_type": "display_data",
          "data": {
            "image/png": "[encoded data removed]",
            "text/plain": [
              "<Figure size 842.4x595.44 with 1 Axes>"
            ]
          },
          "metadata": {}
        }
      ]
    },
    {
      "cell_type": "markdown",
      "metadata": {
        "id": "T4xIZQy4Lyi_"
      },
      "source": [
        "###3.10.3. Frequência"
      ]
    },
    {
      "cell_type": "code",
      "metadata": {
        "colab": {
          "base_uri": "https://localhost:8080/"
        },
        "id": "BrAZCGqIK-Ds",
        "outputId": "b88608bd-e38f-4ab6-a868-32618a6781a5"
      },
      "source": [
        "df['oldpeak'].value_counts()\n",
        "\n",
        "# 33% do dataset possui valor 0."
      ],
      "execution_count": 32,
      "outputs": [
        {
          "output_type": "execute_result",
          "data": {
            "text/plain": [
              "0.000    99\n",
              "1.200    17\n",
              "0.600    14\n",
              "1.000    14\n",
              "0.800    13\n",
              "         ..\n",
              "0.700     1\n",
              "5.600     1\n",
              "3.800     1\n",
              "2.900     1\n",
              "3.500     1\n",
              "Name: oldpeak, Length: 40, dtype: int64"
            ]
          },
          "metadata": {},
          "execution_count": 32
        }
      ]
    },
    {
      "cell_type": "markdown",
      "metadata": {
        "id": "IOoTWVuTMCwN"
      },
      "source": [
        "##3.11. Coluna slope\n",
        "Tipo de inclinação do segmento ST de pico do exercício"
      ]
    },
    {
      "cell_type": "code",
      "metadata": {
        "colab": {
          "base_uri": "https://localhost:8080/"
        },
        "id": "FYy8xOWcMJOu",
        "outputId": "6cf3d696-3b03-496b-b0fb-613be3df224c"
      },
      "source": [
        "df['slope'].value_counts()\n",
        "\n",
        "# 6,7% do dataset possui valor 0, o restante divide-se entre 1 ou 2.\n"
      ],
      "execution_count": 35,
      "outputs": [
        {
          "output_type": "execute_result",
          "data": {
            "text/plain": [
              "2    142\n",
              "1    140\n",
              "0     21\n",
              "Name: slope, dtype: int64"
            ]
          },
          "metadata": {},
          "execution_count": 35
        }
      ]
    },
    {
      "cell_type": "markdown",
      "metadata": {
        "id": "cQvj4a0uMWeP"
      },
      "source": [
        "##3.12. Coluna ca\n",
        "Número de vasos sanguínios ressaltados (coloridos por fluoroscopia)"
      ]
    },
    {
      "cell_type": "code",
      "metadata": {
        "colab": {
          "base_uri": "https://localhost:8080/"
        },
        "id": "xWsSc88ZMYHI",
        "outputId": "5f0e669b-5efd-4009-8996-2c1be2e22306"
      },
      "source": [
        "df['ca'].value_counts()\n",
        "\n",
        "# Mais de 50% do banco de dados não possui nenhum vaso sanguíneo ressaltado\n"
      ],
      "execution_count": 36,
      "outputs": [
        {
          "output_type": "execute_result",
          "data": {
            "text/plain": [
              "0    175\n",
              "1     65\n",
              "2     38\n",
              "3     20\n",
              "4      5\n",
              "Name: ca, dtype: int64"
            ]
          },
          "metadata": {},
          "execution_count": 36
        }
      ]
    },
    {
      "cell_type": "markdown",
      "metadata": {
        "id": "bUMp_kllMr79"
      },
      "source": [
        "##3.13. Coluna Thal\n",
        "Talassemia -> 3 = normal; 6 = fixed defect; 7 = reversable defect"
      ]
    },
    {
      "cell_type": "code",
      "metadata": {
        "colab": {
          "base_uri": "https://localhost:8080/"
        },
        "id": "6cszVkSwPtz5",
        "outputId": "11fc82d0-dead-41fc-e30c-09a80e320509"
      },
      "source": [
        "df['thal'].value_counts()\n",
        "\n",
        "# Dados não condizem com a legenda: dados variam de 0 a 3 e a legenda refere-se a 3, 6 ou 7."
      ],
      "execution_count": 38,
      "outputs": [
        {
          "output_type": "execute_result",
          "data": {
            "text/plain": [
              "2    166\n",
              "3    117\n",
              "1     18\n",
              "0      2\n",
              "Name: thal, dtype: int64"
            ]
          },
          "metadata": {},
          "execution_count": 38
        }
      ]
    },
    {
      "cell_type": "markdown",
      "metadata": {
        "id": "X1tbgEaVQywK"
      },
      "source": [
        "## 3.14. Variável TARGET"
      ]
    },
    {
      "cell_type": "code",
      "metadata": {
        "colab": {
          "base_uri": "https://localhost:8080/"
        },
        "id": "cxphPLTkQ1E9",
        "outputId": "02da5226-23bd-42fe-bfdc-dd05fc4cc671"
      },
      "source": [
        "df['target'].value_counts()\n",
        "\n",
        "# O número de casos positivos é próximo do número de casos negativos. Diminui a chance de vies do modelo.\n"
      ],
      "execution_count": 44,
      "outputs": [
        {
          "output_type": "execute_result",
          "data": {
            "text/plain": [
              "1    165\n",
              "0    138\n",
              "Name: target, dtype: int64"
            ]
          },
          "metadata": {},
          "execution_count": 44
        }
      ]
    },
    {
      "cell_type": "markdown",
      "metadata": {
        "id": "6i9ri4bCRF9t"
      },
      "source": [
        "# 3.15. Correlações"
      ]
    },
    {
      "cell_type": "code",
      "metadata": {
        "colab": {
          "base_uri": "https://localhost:8080/",
          "height": 419
        },
        "id": "JrZ2w50qRIY3",
        "outputId": "d61acdef-b75b-49dc-dabd-6805e74b28d9"
      },
      "source": [
        "df.corr()\n",
        "\n",
        "# A variável target possui correção forte com cp, thalach, exang, oldpeak, ca e thal."
      ],
      "execution_count": 52,
      "outputs": [
        {
          "output_type": "execute_result",
          "data": {
            "text/html": [
              "<div>\n",
              "<style scoped>\n",
              "    .dataframe tbody tr th:only-of-type {\n",
              "        vertical-align: middle;\n",
              "    }\n",
              "\n",
              "    .dataframe tbody tr th {\n",
              "        vertical-align: top;\n",
              "    }\n",
              "\n",
              "    .dataframe thead th {\n",
              "        text-align: right;\n",
              "    }\n",
              "</style>\n",
              "<table border=\"1\" class=\"dataframe\">\n",
              "  <thead>\n",
              "    <tr style=\"text-align: right;\">\n",
              "      <th></th>\n",
              "      <th>age</th>\n",
              "      <th>sex</th>\n",
              "      <th>cp</th>\n",
              "      <th>trestbps</th>\n",
              "      <th>chol</th>\n",
              "      <th>fbs</th>\n",
              "      <th>restecg</th>\n",
              "      <th>thalach</th>\n",
              "      <th>exang</th>\n",
              "      <th>oldpeak</th>\n",
              "      <th>slope</th>\n",
              "      <th>ca</th>\n",
              "      <th>thal</th>\n",
              "      <th>target</th>\n",
              "    </tr>\n",
              "  </thead>\n",
              "  <tbody>\n",
              "    <tr>\n",
              "      <th>age</th>\n",
              "      <td>1.000</td>\n",
              "      <td>-0.098</td>\n",
              "      <td>-0.069</td>\n",
              "      <td>0.279</td>\n",
              "      <td>0.214</td>\n",
              "      <td>0.121</td>\n",
              "      <td>-0.116</td>\n",
              "      <td>-0.399</td>\n",
              "      <td>0.097</td>\n",
              "      <td>0.210</td>\n",
              "      <td>-0.169</td>\n",
              "      <td>0.276</td>\n",
              "      <td>0.068</td>\n",
              "      <td>-0.225</td>\n",
              "    </tr>\n",
              "    <tr>\n",
              "      <th>sex</th>\n",
              "      <td>-0.098</td>\n",
              "      <td>1.000</td>\n",
              "      <td>-0.049</td>\n",
              "      <td>-0.057</td>\n",
              "      <td>-0.198</td>\n",
              "      <td>0.045</td>\n",
              "      <td>-0.058</td>\n",
              "      <td>-0.044</td>\n",
              "      <td>0.142</td>\n",
              "      <td>0.096</td>\n",
              "      <td>-0.031</td>\n",
              "      <td>0.118</td>\n",
              "      <td>0.210</td>\n",
              "      <td>-0.281</td>\n",
              "    </tr>\n",
              "    <tr>\n",
              "      <th>cp</th>\n",
              "      <td>-0.069</td>\n",
              "      <td>-0.049</td>\n",
              "      <td>1.000</td>\n",
              "      <td>0.048</td>\n",
              "      <td>-0.077</td>\n",
              "      <td>0.094</td>\n",
              "      <td>0.044</td>\n",
              "      <td>0.296</td>\n",
              "      <td>-0.394</td>\n",
              "      <td>-0.149</td>\n",
              "      <td>0.120</td>\n",
              "      <td>-0.181</td>\n",
              "      <td>-0.162</td>\n",
              "      <td>0.434</td>\n",
              "    </tr>\n",
              "    <tr>\n",
              "      <th>trestbps</th>\n",
              "      <td>0.279</td>\n",
              "      <td>-0.057</td>\n",
              "      <td>0.048</td>\n",
              "      <td>1.000</td>\n",
              "      <td>0.123</td>\n",
              "      <td>0.178</td>\n",
              "      <td>-0.114</td>\n",
              "      <td>-0.047</td>\n",
              "      <td>0.068</td>\n",
              "      <td>0.193</td>\n",
              "      <td>-0.121</td>\n",
              "      <td>0.101</td>\n",
              "      <td>0.062</td>\n",
              "      <td>-0.145</td>\n",
              "    </tr>\n",
              "    <tr>\n",
              "      <th>chol</th>\n",
              "      <td>0.214</td>\n",
              "      <td>-0.198</td>\n",
              "      <td>-0.077</td>\n",
              "      <td>0.123</td>\n",
              "      <td>1.000</td>\n",
              "      <td>0.013</td>\n",
              "      <td>-0.151</td>\n",
              "      <td>-0.010</td>\n",
              "      <td>0.067</td>\n",
              "      <td>0.054</td>\n",
              "      <td>-0.004</td>\n",
              "      <td>0.071</td>\n",
              "      <td>0.099</td>\n",
              "      <td>-0.085</td>\n",
              "    </tr>\n",
              "    <tr>\n",
              "      <th>...</th>\n",
              "      <td>...</td>\n",
              "      <td>...</td>\n",
              "      <td>...</td>\n",
              "      <td>...</td>\n",
              "      <td>...</td>\n",
              "      <td>...</td>\n",
              "      <td>...</td>\n",
              "      <td>...</td>\n",
              "      <td>...</td>\n",
              "      <td>...</td>\n",
              "      <td>...</td>\n",
              "      <td>...</td>\n",
              "      <td>...</td>\n",
              "      <td>...</td>\n",
              "    </tr>\n",
              "    <tr>\n",
              "      <th>oldpeak</th>\n",
              "      <td>0.210</td>\n",
              "      <td>0.096</td>\n",
              "      <td>-0.149</td>\n",
              "      <td>0.193</td>\n",
              "      <td>0.054</td>\n",
              "      <td>0.006</td>\n",
              "      <td>-0.059</td>\n",
              "      <td>-0.344</td>\n",
              "      <td>0.288</td>\n",
              "      <td>1.000</td>\n",
              "      <td>-0.578</td>\n",
              "      <td>0.223</td>\n",
              "      <td>0.210</td>\n",
              "      <td>-0.431</td>\n",
              "    </tr>\n",
              "    <tr>\n",
              "      <th>slope</th>\n",
              "      <td>-0.169</td>\n",
              "      <td>-0.031</td>\n",
              "      <td>0.120</td>\n",
              "      <td>-0.121</td>\n",
              "      <td>-0.004</td>\n",
              "      <td>-0.060</td>\n",
              "      <td>0.093</td>\n",
              "      <td>0.387</td>\n",
              "      <td>-0.258</td>\n",
              "      <td>-0.578</td>\n",
              "      <td>1.000</td>\n",
              "      <td>-0.080</td>\n",
              "      <td>-0.105</td>\n",
              "      <td>0.346</td>\n",
              "    </tr>\n",
              "    <tr>\n",
              "      <th>ca</th>\n",
              "      <td>0.276</td>\n",
              "      <td>0.118</td>\n",
              "      <td>-0.181</td>\n",
              "      <td>0.101</td>\n",
              "      <td>0.071</td>\n",
              "      <td>0.138</td>\n",
              "      <td>-0.072</td>\n",
              "      <td>-0.213</td>\n",
              "      <td>0.116</td>\n",
              "      <td>0.223</td>\n",
              "      <td>-0.080</td>\n",
              "      <td>1.000</td>\n",
              "      <td>0.152</td>\n",
              "      <td>-0.392</td>\n",
              "    </tr>\n",
              "    <tr>\n",
              "      <th>thal</th>\n",
              "      <td>0.068</td>\n",
              "      <td>0.210</td>\n",
              "      <td>-0.162</td>\n",
              "      <td>0.062</td>\n",
              "      <td>0.099</td>\n",
              "      <td>-0.032</td>\n",
              "      <td>-0.012</td>\n",
              "      <td>-0.096</td>\n",
              "      <td>0.207</td>\n",
              "      <td>0.210</td>\n",
              "      <td>-0.105</td>\n",
              "      <td>0.152</td>\n",
              "      <td>1.000</td>\n",
              "      <td>-0.344</td>\n",
              "    </tr>\n",
              "    <tr>\n",
              "      <th>target</th>\n",
              "      <td>-0.225</td>\n",
              "      <td>-0.281</td>\n",
              "      <td>0.434</td>\n",
              "      <td>-0.145</td>\n",
              "      <td>-0.085</td>\n",
              "      <td>-0.028</td>\n",
              "      <td>0.137</td>\n",
              "      <td>0.422</td>\n",
              "      <td>-0.437</td>\n",
              "      <td>-0.431</td>\n",
              "      <td>0.346</td>\n",
              "      <td>-0.392</td>\n",
              "      <td>-0.344</td>\n",
              "      <td>1.000</td>\n",
              "    </tr>\n",
              "  </tbody>\n",
              "</table>\n",
              "<p>14 rows × 14 columns</p>\n",
              "</div>"
            ],
            "text/plain": [
              "            age    sex     cp  trestbps  ...  slope     ca   thal  target\n",
              "age       1.000 -0.098 -0.069     0.279  ... -0.169  0.276  0.068  -0.225\n",
              "sex      -0.098  1.000 -0.049    -0.057  ... -0.031  0.118  0.210  -0.281\n",
              "cp       -0.069 -0.049  1.000     0.048  ...  0.120 -0.181 -0.162   0.434\n",
              "trestbps  0.279 -0.057  0.048     1.000  ... -0.121  0.101  0.062  -0.145\n",
              "chol      0.214 -0.198 -0.077     0.123  ... -0.004  0.071  0.099  -0.085\n",
              "...         ...    ...    ...       ...  ...    ...    ...    ...     ...\n",
              "oldpeak   0.210  0.096 -0.149     0.193  ... -0.578  0.223  0.210  -0.431\n",
              "slope    -0.169 -0.031  0.120    -0.121  ...  1.000 -0.080 -0.105   0.346\n",
              "ca        0.276  0.118 -0.181     0.101  ... -0.080  1.000  0.152  -0.392\n",
              "thal      0.068  0.210 -0.162     0.062  ... -0.105  0.152  1.000  -0.344\n",
              "target   -0.225 -0.281  0.434    -0.145  ...  0.346 -0.392 -0.344   1.000\n",
              "\n",
              "[14 rows x 14 columns]"
            ]
          },
          "metadata": {},
          "execution_count": 52
        }
      ]
    },
    {
      "cell_type": "markdown",
      "metadata": {
        "id": "3o0oZLrzUHcc"
      },
      "source": [
        "##3.16 CONCLUSÕES"
      ]
    },
    {
      "cell_type": "code",
      "metadata": {
        "colab": {
          "base_uri": "https://localhost:8080/"
        },
        "id": "3yuX1n_uUL2A",
        "outputId": "9550954e-b3cc-4e81-b6fc-c3da5469187b"
      },
      "source": [
        "target = ['target']\n",
        "Variaveis_categoricas = ['resteg', 'slope']\n",
        "Variaveis_discretas = ['cp', 'ca','oldpeak', 'thal']\n",
        "Variaveis_booleanas = ['sex', 'fbs', 'exang']\n",
        "Variaveis_continuas = ['age','trestbps','chol','thalach']\n",
        "features = Variaveis_categoricas + Variaveis_discretas + Variaveis_booleanas + Variaveis_continuas\n",
        "features"
      ],
      "execution_count": 55,
      "outputs": [
        {
          "output_type": "execute_result",
          "data": {
            "text/plain": [
              "['resteg',\n",
              " 'slope',\n",
              " 'cp',\n",
              " 'ca',\n",
              " 'oldpeak',\n",
              " 'thal',\n",
              " 'sex',\n",
              " 'fbs',\n",
              " 'exang',\n",
              " 'age',\n",
              " 'trestbps',\n",
              " 'chol',\n",
              " 'thalach']"
            ]
          },
          "metadata": {},
          "execution_count": 55
        }
      ]
    },
    {
      "cell_type": "markdown",
      "metadata": {
        "id": "NMxdqlOpA1QT"
      },
      "source": [
        "#4. Transformações e Modelagem"
      ]
    },
    {
      "cell_type": "markdown",
      "metadata": {
        "id": "I3yQdf2NK876"
      },
      "source": [
        ""
      ]
    },
    {
      "cell_type": "code",
      "metadata": {
        "id": "JoUz5Tt1A5xO"
      },
      "source": [
        ""
      ],
      "execution_count": null,
      "outputs": []
    }
  ]
}
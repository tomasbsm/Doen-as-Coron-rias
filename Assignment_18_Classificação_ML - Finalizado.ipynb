{
  "nbformat": 4,
  "nbformat_minor": 0,
  "metadata": {
    "colab": {
      "name": "Assignment 18 - Classificação ML.ipynb",
      "provenance": [],
      "collapsed_sections": [
        "rpAwfMjUAfO0",
        "bWRIHRFyCzhk",
        "ZoeZrdaMDfvq",
        "iwlNFHFuFXjz",
        "YPoZgs7FFtNq",
        "UeuuiBL2GsBj",
        "kC9PqqKPH7H4",
        "PjYTssTVInet",
        "xdnNXE_RI79t",
        "3hHz7w73JbQC",
        "rxdBwSlXKYov",
        "IM--ISd4K9jk",
        "IOoTWVuTMCwN",
        "cQvj4a0uMWeP",
        "bUMp_kllMr79",
        "X1tbgEaVQywK"
      ]
    },
    "kernelspec": {
      "name": "python3",
      "display_name": "Python 3"
    },
    "language_info": {
      "name": "python"
    }
  },
  "cells": [
    {
      "cell_type": "markdown",
      "metadata": {
        "id": "HzKxD7ph_xx6"
      },
      "source": [
        "# CONTEXTO\n",
        "Nesse assignment, nosso objetivo central é prever e desenvolver uma análise de um problema envolvendo a predição de doenças coronárias (do coração) utilizando um dataset público. Você deve realizar diversas etapas de análise, tanto de código quanto de explicação escrita do motivo pelo qual está fazendo aquilo para enriquecer seu Projeto. Lembrando que, ao longo do desenvolvimento do projeto, você deve responder algumas perguntas do assignment.\n",
        "\n",
        "# O PROJETO\n",
        "Pesquisadores coletaram diversas informações sobre pacientes que deram entradas em hospitais de Cleveland, EUA. Afirmando estarem com dores no peito. Dentre as diversas informações coletadas, é fornecido a você um dataset com 14 colunas (13\n",
        "características e 1 variável alvo) sobre 303 pacientes Você foi convocado pelo hospital da regional para desenvolver um sistema inteligente que, ao fornecer estes atributos, seu modelo mostra se o paciente tem ou não doenças coronárias.\n",
        "Dependendo do resultado do seu modelo, o paciente é encaminhado mais rapidamente para um especialista. Você deve então criar um modelo de Machine Learning com hiperparâmetros otimizados para o F1 Score (Uma métrica para\n",
        "problemas de classificação). Lembrando que ao longo da sua análise, introdução, EDA, transformações e modelagem, é importante ressaltar a ideia por trás da sua ação. Fazendo isso, enriquece ainda mais seu projeto e garante um entendimento melhor do leitor.\n",
        "\n",
        "#INFORMAÇÕES DO DATASET:\n",
        "- age: Idade (Anos)\n",
        "- sex: Sexo (1 = Masc e 0 = Fem)\n",
        "- cp: Nível de dor ( 1 a 4 )\n",
        "- trestbps: Pressão sanguínea em Repouso\n",
        "- chol: colesterol em mg/dl:\n",
        "- fbs: Fasting Blood Sugar (Teste diabético) > 120 mg/dl\n",
        "- restecg: Eletrocardiogramas em repouso (0,1 ou 2)\n",
        "- thalach: Ritmo cardíaco\n",
        "- exang: Exercício físico que gerou Angina\n",
        "- oldpeak: Depressão de ST induzida por exercício em relação ao\n",
        "repouso\n",
        "- slope: Tipo de inclinação do segmento ST de pico do exercício\n",
        "- ca: número de vasos sanguínios ressaltados (coloridos por\n",
        "fluoroscopia)\n",
        "- thal: Talassemia -> 3 = normal; 6 = fixed defect; 7 = reversable\n",
        "defect\n",
        "\n",
        "\n"
      ]
    },
    {
      "cell_type": "markdown",
      "metadata": {
        "id": "rpAwfMjUAfO0"
      },
      "source": [
        "#1. BLIBIOTECAS"
      ]
    },
    {
      "cell_type": "code",
      "metadata": {
        "id": "RBwgXJ0SAiA1"
      },
      "source": [
        "from pathlib import Path\n",
        "import progressbar as pb # Visualizar barra de progresso, bom para operações de longa duração\n",
        "import pandas as pd\n",
        "import numpy as np\n",
        "import random\n",
        "import matplotlib.pyplot as plt\n",
        "import seaborn as sns\n",
        "from sklearn.preprocessing import StandardScaler\n",
        "import warnings # supress warnings\n",
        "warnings.filterwarnings('always')\n",
        "warnings.filterwarnings('ignore')\n",
        "\n",
        "from sklearn.metrics.pairwise import cosine_similarity\n",
        "# Add some convenience functions to Pandas DataFrame.\n",
        "pd.options.display.max_rows = 10\n",
        "pd.options.display.float_format = '{:.3f}'.format\n",
        "\n",
        "sns.set(rc={'figure.figsize':(11.7,8.27)}) # isso é pras figuras ficarem maiores"
      ],
      "execution_count": 1,
      "outputs": []
    },
    {
      "cell_type": "markdown",
      "metadata": {
        "id": "AQJqbH8VAqp8"
      },
      "source": [
        "#2. Importando o dados e criando o dataset"
      ]
    },
    {
      "cell_type": "code",
      "metadata": {
        "colab": {
          "base_uri": "https://localhost:8080/"
        },
        "id": "w7X7qjjHArE_",
        "outputId": "50c8520e-8c24-4632-90d2-addd9fc9c610"
      },
      "source": [
        "%env KAGGLE_USERNAME = tomasmenegatto\n",
        "%env KAGGLE_KEY = 11458e6485cef3e20517783268b9afac\n",
        "\n",
        "!content/heart-disease-uci\n",
        "!kaggle datasets download -d ronitf/heart-disease-uci --unzip -p content/heart-disease-uci\n",
        "!ls content/heart-disease-uci\n",
        "\n",
        "DATA_PATH = Path(\"content/heart-disease-uci\")"
      ],
      "execution_count": 2,
      "outputs": [
        {
          "output_type": "stream",
          "name": "stdout",
          "text": [
            "env: KAGGLE_USERNAME=tomasmenegatto\n",
            "env: KAGGLE_KEY=11458e6485cef3e20517783268b9afac\n",
            "/bin/bash: content/heart-disease-uci: No such file or directory\n",
            "Downloading heart-disease-uci.zip to content/heart-disease-uci\n",
            "  0% 0.00/3.40k [00:00<?, ?B/s]\n",
            "100% 3.40k/3.40k [00:00<00:00, 6.26MB/s]\n",
            "heart.csv\n"
          ]
        }
      ]
    },
    {
      "cell_type": "code",
      "metadata": {
        "colab": {
          "base_uri": "https://localhost:8080/",
          "height": 362
        },
        "id": "kTZyn32iBQbC",
        "outputId": "752f9f7d-e878-4aa6-99b2-8da9fbfae7bb"
      },
      "source": [
        "df_original = pd.read_csv(DATA_PATH / 'heart.csv')\n",
        "df_original.head(10)"
      ],
      "execution_count": 3,
      "outputs": [
        {
          "output_type": "execute_result",
          "data": {
            "text/html": [
              "<div>\n",
              "<style scoped>\n",
              "    .dataframe tbody tr th:only-of-type {\n",
              "        vertical-align: middle;\n",
              "    }\n",
              "\n",
              "    .dataframe tbody tr th {\n",
              "        vertical-align: top;\n",
              "    }\n",
              "\n",
              "    .dataframe thead th {\n",
              "        text-align: right;\n",
              "    }\n",
              "</style>\n",
              "<table border=\"1\" class=\"dataframe\">\n",
              "  <thead>\n",
              "    <tr style=\"text-align: right;\">\n",
              "      <th></th>\n",
              "      <th>age</th>\n",
              "      <th>sex</th>\n",
              "      <th>cp</th>\n",
              "      <th>trestbps</th>\n",
              "      <th>chol</th>\n",
              "      <th>fbs</th>\n",
              "      <th>restecg</th>\n",
              "      <th>thalach</th>\n",
              "      <th>exang</th>\n",
              "      <th>oldpeak</th>\n",
              "      <th>slope</th>\n",
              "      <th>ca</th>\n",
              "      <th>thal</th>\n",
              "      <th>target</th>\n",
              "    </tr>\n",
              "  </thead>\n",
              "  <tbody>\n",
              "    <tr>\n",
              "      <th>0</th>\n",
              "      <td>63</td>\n",
              "      <td>1</td>\n",
              "      <td>3</td>\n",
              "      <td>145</td>\n",
              "      <td>233</td>\n",
              "      <td>1</td>\n",
              "      <td>0</td>\n",
              "      <td>150</td>\n",
              "      <td>0</td>\n",
              "      <td>2.300</td>\n",
              "      <td>0</td>\n",
              "      <td>0</td>\n",
              "      <td>1</td>\n",
              "      <td>1</td>\n",
              "    </tr>\n",
              "    <tr>\n",
              "      <th>1</th>\n",
              "      <td>37</td>\n",
              "      <td>1</td>\n",
              "      <td>2</td>\n",
              "      <td>130</td>\n",
              "      <td>250</td>\n",
              "      <td>0</td>\n",
              "      <td>1</td>\n",
              "      <td>187</td>\n",
              "      <td>0</td>\n",
              "      <td>3.500</td>\n",
              "      <td>0</td>\n",
              "      <td>0</td>\n",
              "      <td>2</td>\n",
              "      <td>1</td>\n",
              "    </tr>\n",
              "    <tr>\n",
              "      <th>2</th>\n",
              "      <td>41</td>\n",
              "      <td>0</td>\n",
              "      <td>1</td>\n",
              "      <td>130</td>\n",
              "      <td>204</td>\n",
              "      <td>0</td>\n",
              "      <td>0</td>\n",
              "      <td>172</td>\n",
              "      <td>0</td>\n",
              "      <td>1.400</td>\n",
              "      <td>2</td>\n",
              "      <td>0</td>\n",
              "      <td>2</td>\n",
              "      <td>1</td>\n",
              "    </tr>\n",
              "    <tr>\n",
              "      <th>3</th>\n",
              "      <td>56</td>\n",
              "      <td>1</td>\n",
              "      <td>1</td>\n",
              "      <td>120</td>\n",
              "      <td>236</td>\n",
              "      <td>0</td>\n",
              "      <td>1</td>\n",
              "      <td>178</td>\n",
              "      <td>0</td>\n",
              "      <td>0.800</td>\n",
              "      <td>2</td>\n",
              "      <td>0</td>\n",
              "      <td>2</td>\n",
              "      <td>1</td>\n",
              "    </tr>\n",
              "    <tr>\n",
              "      <th>4</th>\n",
              "      <td>57</td>\n",
              "      <td>0</td>\n",
              "      <td>0</td>\n",
              "      <td>120</td>\n",
              "      <td>354</td>\n",
              "      <td>0</td>\n",
              "      <td>1</td>\n",
              "      <td>163</td>\n",
              "      <td>1</td>\n",
              "      <td>0.600</td>\n",
              "      <td>2</td>\n",
              "      <td>0</td>\n",
              "      <td>2</td>\n",
              "      <td>1</td>\n",
              "    </tr>\n",
              "    <tr>\n",
              "      <th>5</th>\n",
              "      <td>57</td>\n",
              "      <td>1</td>\n",
              "      <td>0</td>\n",
              "      <td>140</td>\n",
              "      <td>192</td>\n",
              "      <td>0</td>\n",
              "      <td>1</td>\n",
              "      <td>148</td>\n",
              "      <td>0</td>\n",
              "      <td>0.400</td>\n",
              "      <td>1</td>\n",
              "      <td>0</td>\n",
              "      <td>1</td>\n",
              "      <td>1</td>\n",
              "    </tr>\n",
              "    <tr>\n",
              "      <th>6</th>\n",
              "      <td>56</td>\n",
              "      <td>0</td>\n",
              "      <td>1</td>\n",
              "      <td>140</td>\n",
              "      <td>294</td>\n",
              "      <td>0</td>\n",
              "      <td>0</td>\n",
              "      <td>153</td>\n",
              "      <td>0</td>\n",
              "      <td>1.300</td>\n",
              "      <td>1</td>\n",
              "      <td>0</td>\n",
              "      <td>2</td>\n",
              "      <td>1</td>\n",
              "    </tr>\n",
              "    <tr>\n",
              "      <th>7</th>\n",
              "      <td>44</td>\n",
              "      <td>1</td>\n",
              "      <td>1</td>\n",
              "      <td>120</td>\n",
              "      <td>263</td>\n",
              "      <td>0</td>\n",
              "      <td>1</td>\n",
              "      <td>173</td>\n",
              "      <td>0</td>\n",
              "      <td>0.000</td>\n",
              "      <td>2</td>\n",
              "      <td>0</td>\n",
              "      <td>3</td>\n",
              "      <td>1</td>\n",
              "    </tr>\n",
              "    <tr>\n",
              "      <th>8</th>\n",
              "      <td>52</td>\n",
              "      <td>1</td>\n",
              "      <td>2</td>\n",
              "      <td>172</td>\n",
              "      <td>199</td>\n",
              "      <td>1</td>\n",
              "      <td>1</td>\n",
              "      <td>162</td>\n",
              "      <td>0</td>\n",
              "      <td>0.500</td>\n",
              "      <td>2</td>\n",
              "      <td>0</td>\n",
              "      <td>3</td>\n",
              "      <td>1</td>\n",
              "    </tr>\n",
              "    <tr>\n",
              "      <th>9</th>\n",
              "      <td>57</td>\n",
              "      <td>1</td>\n",
              "      <td>2</td>\n",
              "      <td>150</td>\n",
              "      <td>168</td>\n",
              "      <td>0</td>\n",
              "      <td>1</td>\n",
              "      <td>174</td>\n",
              "      <td>0</td>\n",
              "      <td>1.600</td>\n",
              "      <td>2</td>\n",
              "      <td>0</td>\n",
              "      <td>2</td>\n",
              "      <td>1</td>\n",
              "    </tr>\n",
              "  </tbody>\n",
              "</table>\n",
              "</div>"
            ],
            "text/plain": [
              "   age  sex  cp  trestbps  chol  fbs  ...  exang  oldpeak  slope  ca  thal  target\n",
              "0   63    1   3       145   233    1  ...      0    2.300      0   0     1       1\n",
              "1   37    1   2       130   250    0  ...      0    3.500      0   0     2       1\n",
              "2   41    0   1       130   204    0  ...      0    1.400      2   0     2       1\n",
              "3   56    1   1       120   236    0  ...      0    0.800      2   0     2       1\n",
              "4   57    0   0       120   354    0  ...      1    0.600      2   0     2       1\n",
              "5   57    1   0       140   192    0  ...      0    0.400      1   0     1       1\n",
              "6   56    0   1       140   294    0  ...      0    1.300      1   0     2       1\n",
              "7   44    1   1       120   263    0  ...      0    0.000      2   0     3       1\n",
              "8   52    1   2       172   199    1  ...      0    0.500      2   0     3       1\n",
              "9   57    1   2       150   168    0  ...      0    1.600      2   0     2       1\n",
              "\n",
              "[10 rows x 14 columns]"
            ]
          },
          "metadata": {},
          "execution_count": 3
        }
      ]
    },
    {
      "cell_type": "markdown",
      "metadata": {
        "id": "MPAsBLi8ArUf"
      },
      "source": [
        "#3. EDA (Análise Exploratória dos Dados)"
      ]
    },
    {
      "cell_type": "code",
      "metadata": {
        "colab": {
          "base_uri": "https://localhost:8080/",
          "height": 299
        },
        "id": "_5Kdd6T0A1Jk",
        "outputId": "4cbdeab5-74db-402f-d4a7-d078a9195b90"
      },
      "source": [
        "df = df_original.copy()\n",
        "df.describe()\n",
        "\n",
        "# As colunas Trestbps, chol, thalach possuem desvio padrão muito alto\n",
        "# Médias próximas das medianas"
      ],
      "execution_count": 4,
      "outputs": [
        {
          "output_type": "execute_result",
          "data": {
            "text/html": [
              "<div>\n",
              "<style scoped>\n",
              "    .dataframe tbody tr th:only-of-type {\n",
              "        vertical-align: middle;\n",
              "    }\n",
              "\n",
              "    .dataframe tbody tr th {\n",
              "        vertical-align: top;\n",
              "    }\n",
              "\n",
              "    .dataframe thead th {\n",
              "        text-align: right;\n",
              "    }\n",
              "</style>\n",
              "<table border=\"1\" class=\"dataframe\">\n",
              "  <thead>\n",
              "    <tr style=\"text-align: right;\">\n",
              "      <th></th>\n",
              "      <th>age</th>\n",
              "      <th>sex</th>\n",
              "      <th>cp</th>\n",
              "      <th>trestbps</th>\n",
              "      <th>chol</th>\n",
              "      <th>fbs</th>\n",
              "      <th>restecg</th>\n",
              "      <th>thalach</th>\n",
              "      <th>exang</th>\n",
              "      <th>oldpeak</th>\n",
              "      <th>slope</th>\n",
              "      <th>ca</th>\n",
              "      <th>thal</th>\n",
              "      <th>target</th>\n",
              "    </tr>\n",
              "  </thead>\n",
              "  <tbody>\n",
              "    <tr>\n",
              "      <th>count</th>\n",
              "      <td>303.000</td>\n",
              "      <td>303.000</td>\n",
              "      <td>303.000</td>\n",
              "      <td>303.000</td>\n",
              "      <td>303.000</td>\n",
              "      <td>303.000</td>\n",
              "      <td>303.000</td>\n",
              "      <td>303.000</td>\n",
              "      <td>303.000</td>\n",
              "      <td>303.000</td>\n",
              "      <td>303.000</td>\n",
              "      <td>303.000</td>\n",
              "      <td>303.000</td>\n",
              "      <td>303.000</td>\n",
              "    </tr>\n",
              "    <tr>\n",
              "      <th>mean</th>\n",
              "      <td>54.366</td>\n",
              "      <td>0.683</td>\n",
              "      <td>0.967</td>\n",
              "      <td>131.624</td>\n",
              "      <td>246.264</td>\n",
              "      <td>0.149</td>\n",
              "      <td>0.528</td>\n",
              "      <td>149.647</td>\n",
              "      <td>0.327</td>\n",
              "      <td>1.040</td>\n",
              "      <td>1.399</td>\n",
              "      <td>0.729</td>\n",
              "      <td>2.314</td>\n",
              "      <td>0.545</td>\n",
              "    </tr>\n",
              "    <tr>\n",
              "      <th>std</th>\n",
              "      <td>9.082</td>\n",
              "      <td>0.466</td>\n",
              "      <td>1.032</td>\n",
              "      <td>17.538</td>\n",
              "      <td>51.831</td>\n",
              "      <td>0.356</td>\n",
              "      <td>0.526</td>\n",
              "      <td>22.905</td>\n",
              "      <td>0.470</td>\n",
              "      <td>1.161</td>\n",
              "      <td>0.616</td>\n",
              "      <td>1.023</td>\n",
              "      <td>0.612</td>\n",
              "      <td>0.499</td>\n",
              "    </tr>\n",
              "    <tr>\n",
              "      <th>min</th>\n",
              "      <td>29.000</td>\n",
              "      <td>0.000</td>\n",
              "      <td>0.000</td>\n",
              "      <td>94.000</td>\n",
              "      <td>126.000</td>\n",
              "      <td>0.000</td>\n",
              "      <td>0.000</td>\n",
              "      <td>71.000</td>\n",
              "      <td>0.000</td>\n",
              "      <td>0.000</td>\n",
              "      <td>0.000</td>\n",
              "      <td>0.000</td>\n",
              "      <td>0.000</td>\n",
              "      <td>0.000</td>\n",
              "    </tr>\n",
              "    <tr>\n",
              "      <th>25%</th>\n",
              "      <td>47.500</td>\n",
              "      <td>0.000</td>\n",
              "      <td>0.000</td>\n",
              "      <td>120.000</td>\n",
              "      <td>211.000</td>\n",
              "      <td>0.000</td>\n",
              "      <td>0.000</td>\n",
              "      <td>133.500</td>\n",
              "      <td>0.000</td>\n",
              "      <td>0.000</td>\n",
              "      <td>1.000</td>\n",
              "      <td>0.000</td>\n",
              "      <td>2.000</td>\n",
              "      <td>0.000</td>\n",
              "    </tr>\n",
              "    <tr>\n",
              "      <th>50%</th>\n",
              "      <td>55.000</td>\n",
              "      <td>1.000</td>\n",
              "      <td>1.000</td>\n",
              "      <td>130.000</td>\n",
              "      <td>240.000</td>\n",
              "      <td>0.000</td>\n",
              "      <td>1.000</td>\n",
              "      <td>153.000</td>\n",
              "      <td>0.000</td>\n",
              "      <td>0.800</td>\n",
              "      <td>1.000</td>\n",
              "      <td>0.000</td>\n",
              "      <td>2.000</td>\n",
              "      <td>1.000</td>\n",
              "    </tr>\n",
              "    <tr>\n",
              "      <th>75%</th>\n",
              "      <td>61.000</td>\n",
              "      <td>1.000</td>\n",
              "      <td>2.000</td>\n",
              "      <td>140.000</td>\n",
              "      <td>274.500</td>\n",
              "      <td>0.000</td>\n",
              "      <td>1.000</td>\n",
              "      <td>166.000</td>\n",
              "      <td>1.000</td>\n",
              "      <td>1.600</td>\n",
              "      <td>2.000</td>\n",
              "      <td>1.000</td>\n",
              "      <td>3.000</td>\n",
              "      <td>1.000</td>\n",
              "    </tr>\n",
              "    <tr>\n",
              "      <th>max</th>\n",
              "      <td>77.000</td>\n",
              "      <td>1.000</td>\n",
              "      <td>3.000</td>\n",
              "      <td>200.000</td>\n",
              "      <td>564.000</td>\n",
              "      <td>1.000</td>\n",
              "      <td>2.000</td>\n",
              "      <td>202.000</td>\n",
              "      <td>1.000</td>\n",
              "      <td>6.200</td>\n",
              "      <td>2.000</td>\n",
              "      <td>4.000</td>\n",
              "      <td>3.000</td>\n",
              "      <td>1.000</td>\n",
              "    </tr>\n",
              "  </tbody>\n",
              "</table>\n",
              "</div>"
            ],
            "text/plain": [
              "          age     sex      cp  trestbps  ...   slope      ca    thal  target\n",
              "count 303.000 303.000 303.000   303.000  ... 303.000 303.000 303.000 303.000\n",
              "mean   54.366   0.683   0.967   131.624  ...   1.399   0.729   2.314   0.545\n",
              "std     9.082   0.466   1.032    17.538  ...   0.616   1.023   0.612   0.499\n",
              "min    29.000   0.000   0.000    94.000  ...   0.000   0.000   0.000   0.000\n",
              "25%    47.500   0.000   0.000   120.000  ...   1.000   0.000   2.000   0.000\n",
              "50%    55.000   1.000   1.000   130.000  ...   1.000   0.000   2.000   1.000\n",
              "75%    61.000   1.000   2.000   140.000  ...   2.000   1.000   3.000   1.000\n",
              "max    77.000   1.000   3.000   200.000  ...   2.000   4.000   3.000   1.000\n",
              "\n",
              "[8 rows x 14 columns]"
            ]
          },
          "metadata": {},
          "execution_count": 4
        }
      ]
    },
    {
      "cell_type": "code",
      "metadata": {
        "colab": {
          "base_uri": "https://localhost:8080/"
        },
        "id": "UGmBbF05Cbcz",
        "outputId": "2c7fcba0-f812-4b68-965d-b37674da9d73"
      },
      "source": [
        "df.info()\n",
        "\n",
        "# Não há valores nulo no dataset\n",
        "# Apenas uma variável não é inteira\n",
        "# Nenhuma coluna declarada como categórica"
      ],
      "execution_count": 5,
      "outputs": [
        {
          "output_type": "stream",
          "name": "stdout",
          "text": [
            "<class 'pandas.core.frame.DataFrame'>\n",
            "RangeIndex: 303 entries, 0 to 302\n",
            "Data columns (total 14 columns):\n",
            " #   Column    Non-Null Count  Dtype  \n",
            "---  ------    --------------  -----  \n",
            " 0   age       303 non-null    int64  \n",
            " 1   sex       303 non-null    int64  \n",
            " 2   cp        303 non-null    int64  \n",
            " 3   trestbps  303 non-null    int64  \n",
            " 4   chol      303 non-null    int64  \n",
            " 5   fbs       303 non-null    int64  \n",
            " 6   restecg   303 non-null    int64  \n",
            " 7   thalach   303 non-null    int64  \n",
            " 8   exang     303 non-null    int64  \n",
            " 9   oldpeak   303 non-null    float64\n",
            " 10  slope     303 non-null    int64  \n",
            " 11  ca        303 non-null    int64  \n",
            " 12  thal      303 non-null    int64  \n",
            " 13  target    303 non-null    int64  \n",
            "dtypes: float64(1), int64(13)\n",
            "memory usage: 33.3 KB\n"
          ]
        }
      ]
    },
    {
      "cell_type": "code",
      "metadata": {
        "colab": {
          "base_uri": "https://localhost:8080/"
        },
        "id": "v-TwXGRjDIk6",
        "outputId": "764075ef-a5df-47b9-8fec-b7842869c7d3"
      },
      "source": [
        "df.shape"
      ],
      "execution_count": 6,
      "outputs": [
        {
          "output_type": "execute_result",
          "data": {
            "text/plain": [
              "(303, 14)"
            ]
          },
          "metadata": {},
          "execution_count": 6
        }
      ]
    },
    {
      "cell_type": "markdown",
      "metadata": {
        "id": "bWRIHRFyCzhk"
      },
      "source": [
        "##3.1. Coluna Age\n",
        "Traz a idade dos pacientes em anos"
      ]
    },
    {
      "cell_type": "markdown",
      "metadata": {
        "id": "ZoeZrdaMDfvq"
      },
      "source": [
        "###3.1.1. Histograma"
      ]
    },
    {
      "cell_type": "code",
      "metadata": {
        "colab": {
          "base_uri": "https://localhost:8080/",
          "height": 303
        },
        "id": "p6sfyVj7De-h",
        "outputId": "f59ac57e-eae5-481a-89f5-18f4f2e8ff99"
      },
      "source": [
        "sns.histplot(x='age', data=df)\n",
        "\n",
        "# Dados relativamente bem distruídos, média de idade elevada."
      ],
      "execution_count": 7,
      "outputs": [
        {
          "output_type": "execute_result",
          "data": {
            "text/plain": [
              "<matplotlib.axes._subplots.AxesSubplot at 0x7fcb779243d0>"
            ]
          },
          "metadata": {},
          "execution_count": 7
        },
        {
          "output_type": "display_data",
          "data": {
            "image/png": "[encoded data removed]",
            "text/plain": [
              "<Figure size 432x288 with 1 Axes>"
            ]
          },
          "metadata": {
            "needs_background": "light"
          }
        }
      ]
    },
    {
      "cell_type": "markdown",
      "metadata": {
        "id": "WkTEUGIwEZT3"
      },
      "source": [
        "###3.1.2. Boxplot"
      ]
    },
    {
      "cell_type": "code",
      "metadata": {
        "colab": {
          "base_uri": "https://localhost:8080/",
          "height": 303
        },
        "id": "Wh6jmTAaEdLC",
        "outputId": "f04f1e38-89c5-4700-ac46-7417a36d7312"
      },
      "source": [
        "sns.boxplot(x='target', y='age', data=df)"
      ],
      "execution_count": 8,
      "outputs": [
        {
          "output_type": "execute_result",
          "data": {
            "text/plain": [
              "<matplotlib.axes._subplots.AxesSubplot at 0x7fcb678a2090>"
            ]
          },
          "metadata": {},
          "execution_count": 8
        },
        {
          "output_type": "display_data",
          "data": {
            "image/png": "[encoded data removed]",
            "text/plain": [
              "<Figure size 432x288 with 1 Axes>"
            ]
          },
          "metadata": {
            "needs_background": "light"
          }
        }
      ]
    },
    {
      "cell_type": "markdown",
      "metadata": {
        "id": "V6vMAEQ0ESXx"
      },
      "source": [
        "###3.1.3. Frequência das idades"
      ]
    },
    {
      "cell_type": "code",
      "metadata": {
        "colab": {
          "base_uri": "https://localhost:8080/"
        },
        "id": "yJVHN8zeEB9u",
        "outputId": "44bf276c-3023-4dd4-8de9-8f1a0e72db0a"
      },
      "source": [
        "df['age'].value_counts()\n",
        "\n",
        "# A maioria dos pacientes possuem entre 50 e 60 anos."
      ],
      "execution_count": 9,
      "outputs": [
        {
          "output_type": "execute_result",
          "data": {
            "text/plain": [
              "58    19\n",
              "57    17\n",
              "54    16\n",
              "59    14\n",
              "52    13\n",
              "      ..\n",
              "37     2\n",
              "77     1\n",
              "76     1\n",
              "74     1\n",
              "29     1\n",
              "Name: age, Length: 41, dtype: int64"
            ]
          },
          "metadata": {},
          "execution_count": 9
        }
      ]
    },
    {
      "cell_type": "markdown",
      "metadata": {
        "id": "iwlNFHFuFXjz"
      },
      "source": [
        "##3.2. Coluna Sex\n",
        "Sexo (1 = Masc e 0 = Fem)"
      ]
    },
    {
      "cell_type": "code",
      "metadata": {
        "colab": {
          "base_uri": "https://localhost:8080/"
        },
        "id": "menxSzR3FcjV",
        "outputId": "5204e81b-a764-4e02-f8cf-225c15e64c75"
      },
      "source": [
        "df['sex'].value_counts()\n",
        "\n",
        "# Aproximadamente 66% dos pacientes são homens"
      ],
      "execution_count": 10,
      "outputs": [
        {
          "output_type": "execute_result",
          "data": {
            "text/plain": [
              "1    207\n",
              "0     96\n",
              "Name: sex, dtype: int64"
            ]
          },
          "metadata": {},
          "execution_count": 10
        }
      ]
    },
    {
      "cell_type": "markdown",
      "metadata": {
        "id": "YPoZgs7FFtNq"
      },
      "source": [
        "##3.3. Coluna Cp\n",
        "Nível de dor ( 1 a 4 )"
      ]
    },
    {
      "cell_type": "code",
      "metadata": {
        "colab": {
          "base_uri": "https://localhost:8080/"
        },
        "id": "wn3OdSwwC3rM",
        "outputId": "fbfb8c1b-88e8-4fa1-84f2-a1027853bed9"
      },
      "source": [
        "df['cp'].value_counts()\n",
        "\n",
        "# Na descrição da varíavel o nível da dor deveria variar entre 1 a 4, entretanto está variando entre 0 e 3\n",
        "# 50% dos dados são de pacientes que estavam com um nível baixo de dor"
      ],
      "execution_count": 11,
      "outputs": [
        {
          "output_type": "execute_result",
          "data": {
            "text/plain": [
              "0    143\n",
              "2     87\n",
              "1     50\n",
              "3     23\n",
              "Name: cp, dtype: int64"
            ]
          },
          "metadata": {},
          "execution_count": 11
        }
      ]
    },
    {
      "cell_type": "markdown",
      "metadata": {
        "id": "UeuuiBL2GsBj"
      },
      "source": [
        "##3.4. Coluna Trestbps\n",
        "Pressão sanguínea em Repouso"
      ]
    },
    {
      "cell_type": "markdown",
      "metadata": {
        "id": "MN7LI_6zG7mf"
      },
      "source": [
        "###3.4.1. Histograma"
      ]
    },
    {
      "cell_type": "code",
      "metadata": {
        "colab": {
          "base_uri": "https://localhost:8080/",
          "height": 303
        },
        "id": "zX4beXaPG-S3",
        "outputId": "b4f4ce48-d098-4f60-fc33-410b0448e190"
      },
      "source": [
        "sns.histplot(x='trestbps', data=df)\n",
        "\n",
        "# Presença de outliers, dados não estão muito bem distribuídos"
      ],
      "execution_count": 12,
      "outputs": [
        {
          "output_type": "execute_result",
          "data": {
            "text/plain": [
              "<matplotlib.axes._subplots.AxesSubplot at 0x7fcb668067d0>"
            ]
          },
          "metadata": {},
          "execution_count": 12
        },
        {
          "output_type": "display_data",
          "data": {
            "image/png": "[encoded data removed]",
            "text/plain": [
              "<Figure size 432x288 with 1 Axes>"
            ]
          },
          "metadata": {
            "needs_background": "light"
          }
        }
      ]
    },
    {
      "cell_type": "markdown",
      "metadata": {
        "id": "Hssl-8T4HOJ3"
      },
      "source": [
        "###3.4.2. Boxplot"
      ]
    },
    {
      "cell_type": "code",
      "metadata": {
        "colab": {
          "base_uri": "https://localhost:8080/",
          "height": 303
        },
        "id": "yabzpwR6HQNd",
        "outputId": "746ea995-6557-499d-9889-e60edd967367"
      },
      "source": [
        "sns.boxplot(x='target', y='trestbps', data=df)\n",
        "\n",
        "# Possui outliers tanto para caso possitivo quanto negativo"
      ],
      "execution_count": 13,
      "outputs": [
        {
          "output_type": "execute_result",
          "data": {
            "text/plain": [
              "<matplotlib.axes._subplots.AxesSubplot at 0x7fcb6677bd10>"
            ]
          },
          "metadata": {},
          "execution_count": 13
        },
        {
          "output_type": "display_data",
          "data": {
            "image/png": "[encoded data removed]",
            "text/plain": [
              "<Figure size 432x288 with 1 Axes>"
            ]
          },
          "metadata": {
            "needs_background": "light"
          }
        }
      ]
    },
    {
      "cell_type": "code",
      "metadata": {
        "colab": {
          "base_uri": "https://localhost:8080/"
        },
        "id": "oTCU4lZ6G0ec",
        "outputId": "4abfb5f1-62a1-4f94-918a-72fff6759d8a"
      },
      "source": [
        "df['trestbps'].value_counts()\n",
        "\n",
        "# Pressão sanguíneas mais comuns são de 120, 130 e 140"
      ],
      "execution_count": 14,
      "outputs": [
        {
          "output_type": "execute_result",
          "data": {
            "text/plain": [
              "120    37\n",
              "130    36\n",
              "140    32\n",
              "110    19\n",
              "150    17\n",
              "       ..\n",
              "155     1\n",
              "117     1\n",
              "154     1\n",
              "123     1\n",
              "200     1\n",
              "Name: trestbps, Length: 49, dtype: int64"
            ]
          },
          "metadata": {},
          "execution_count": 14
        }
      ]
    },
    {
      "cell_type": "markdown",
      "metadata": {
        "id": "kC9PqqKPH7H4"
      },
      "source": [
        "##3.5. Coluna Chol\n",
        "Colesterol em mg/dl"
      ]
    },
    {
      "cell_type": "markdown",
      "metadata": {
        "id": "Vx4nnd--IGfN"
      },
      "source": [
        "###3.5.1. Histograma"
      ]
    },
    {
      "cell_type": "code",
      "metadata": {
        "colab": {
          "base_uri": "https://localhost:8080/",
          "height": 303
        },
        "id": "PeBKx1TKIIPv",
        "outputId": "6492e43e-f7a0-48c5-bd73-d6ff7d536caa"
      },
      "source": [
        "sns.histplot(x='chol', data=df)\n",
        "\n",
        "# Presença de outliers\n",
        "# Se eliminarmos os dados maiores que 350, os dados são bem distribuídos"
      ],
      "execution_count": 15,
      "outputs": [
        {
          "output_type": "execute_result",
          "data": {
            "text/plain": [
              "<matplotlib.axes._subplots.AxesSubplot at 0x7fcb6678a310>"
            ]
          },
          "metadata": {},
          "execution_count": 15
        },
        {
          "output_type": "display_data",
          "data": {
            "image/png": "[encoded data removed]",
            "text/plain": [
              "<Figure size 432x288 with 1 Axes>"
            ]
          },
          "metadata": {
            "needs_background": "light"
          }
        }
      ]
    },
    {
      "cell_type": "markdown",
      "metadata": {
        "id": "l9wsMhjqIUW2"
      },
      "source": [
        "###3.5.2. Boxplot"
      ]
    },
    {
      "cell_type": "code",
      "metadata": {
        "colab": {
          "base_uri": "https://localhost:8080/",
          "height": 303
        },
        "id": "IRE9JT6TIXQT",
        "outputId": "5bf6f98d-45ad-41a6-be43-0f072b893079"
      },
      "source": [
        "sns.boxplot(x='target', y='chol', data=df)\n",
        "\n",
        "# Possui alguns outliers para casos negativos e muito outliers para casos positivos, pode ser uma problema para o modelo.\n"
      ],
      "execution_count": 16,
      "outputs": [
        {
          "output_type": "execute_result",
          "data": {
            "text/plain": [
              "<matplotlib.axes._subplots.AxesSubplot at 0x7fcb666b0f10>"
            ]
          },
          "metadata": {},
          "execution_count": 16
        },
        {
          "output_type": "display_data",
          "data": {
            "image/png": "[encoded data removed]",
            "text/plain": [
              "<Figure size 432x288 with 1 Axes>"
            ]
          },
          "metadata": {
            "needs_background": "light"
          }
        }
      ]
    },
    {
      "cell_type": "markdown",
      "metadata": {
        "id": "PjYTssTVInet"
      },
      "source": [
        "##3.6. Coluna fbs\n",
        "Fasting Blood Sugar (Teste diabético) > 120 mg/dl"
      ]
    },
    {
      "cell_type": "code",
      "metadata": {
        "colab": {
          "base_uri": "https://localhost:8080/"
        },
        "id": "6CuxwY4_IxbD",
        "outputId": "3a2295e4-1d2b-4cc2-8635-ebb4cd8a3aec"
      },
      "source": [
        "df['fbs'].value_counts()\n",
        "\n",
        "# Apenas 15% dos pacientes do banco de dados são diabéticos.\n"
      ],
      "execution_count": 17,
      "outputs": [
        {
          "output_type": "execute_result",
          "data": {
            "text/plain": [
              "0    258\n",
              "1     45\n",
              "Name: fbs, dtype: int64"
            ]
          },
          "metadata": {},
          "execution_count": 17
        }
      ]
    },
    {
      "cell_type": "markdown",
      "metadata": {
        "id": "xdnNXE_RI79t"
      },
      "source": [
        "##3.7. Coluna restecg\n",
        "Eletrocardiogramas em repouso (0,1 ou 2)"
      ]
    },
    {
      "cell_type": "code",
      "metadata": {
        "colab": {
          "base_uri": "https://localhost:8080/"
        },
        "id": "lua5A-kyJD8O",
        "outputId": "0a935e8b-6ad1-4092-dabe-3448c51776ce"
      },
      "source": [
        "df['restecg'].value_counts()\n",
        "\n",
        "# Apenas 4 pacientes (1% do dataset) possuiam 2 eletrocardiogramas em repouso\n",
        "# O número de pacientes com 1 eletrocariograma é próximo do número de pacientes com nenhum eletrocariograma"
      ],
      "execution_count": 18,
      "outputs": [
        {
          "output_type": "execute_result",
          "data": {
            "text/plain": [
              "1    152\n",
              "0    147\n",
              "2      4\n",
              "Name: restecg, dtype: int64"
            ]
          },
          "metadata": {},
          "execution_count": 18
        }
      ]
    },
    {
      "cell_type": "markdown",
      "metadata": {
        "id": "3hHz7w73JbQC"
      },
      "source": [
        "##3.8. Coluna thalach\n",
        "Ritmo cardíaco"
      ]
    },
    {
      "cell_type": "markdown",
      "metadata": {
        "id": "FaLhKXLdJn_X"
      },
      "source": [
        "###3.8.1. Histograma"
      ]
    },
    {
      "cell_type": "code",
      "metadata": {
        "colab": {
          "base_uri": "https://localhost:8080/",
          "height": 303
        },
        "id": "2cZKphwyJqLt",
        "outputId": "2359e6d2-a1c1-41c0-c3e2-4d9908814f46"
      },
      "source": [
        "sns.histplot(x='thalach', data=df)\n",
        "\n",
        "# Possível presença de outliers\n",
        "# Dados são estão muito bem distribuídos\n"
      ],
      "execution_count": 19,
      "outputs": [
        {
          "output_type": "execute_result",
          "data": {
            "text/plain": [
              "<matplotlib.axes._subplots.AxesSubplot at 0x7fcb665b1d90>"
            ]
          },
          "metadata": {},
          "execution_count": 19
        },
        {
          "output_type": "display_data",
          "data": {
            "image/png": "[encoded data removed]",
            "text/plain": [
              "<Figure size 432x288 with 1 Axes>"
            ]
          },
          "metadata": {
            "needs_background": "light"
          }
        }
      ]
    },
    {
      "cell_type": "markdown",
      "metadata": {
        "id": "q7buXRKHJ9FA"
      },
      "source": [
        "###3.8.2. Boxplot"
      ]
    },
    {
      "cell_type": "code",
      "metadata": {
        "colab": {
          "base_uri": "https://localhost:8080/",
          "height": 303
        },
        "id": "ADB7Q1_fKBOQ",
        "outputId": "bf233328-cb8c-4c23-d2fc-281ca16b5884"
      },
      "source": [
        "sns.boxplot(x='target', y='thalach', data=df)\n",
        "\n",
        "# Casos positivos aparentam ter thalach mais alto. Pode ajudar no modelo."
      ],
      "execution_count": 20,
      "outputs": [
        {
          "output_type": "execute_result",
          "data": {
            "text/plain": [
              "<matplotlib.axes._subplots.AxesSubplot at 0x7fcb665badd0>"
            ]
          },
          "metadata": {},
          "execution_count": 20
        },
        {
          "output_type": "display_data",
          "data": {
            "image/png": "[encoded data removed]",
            "text/plain": [
              "<Figure size 432x288 with 1 Axes>"
            ]
          },
          "metadata": {
            "needs_background": "light"
          }
        }
      ]
    },
    {
      "cell_type": "markdown",
      "metadata": {
        "id": "Yoyt4lYbKMkO"
      },
      "source": [
        "###3.8.3. Frequência"
      ]
    },
    {
      "cell_type": "code",
      "metadata": {
        "colab": {
          "base_uri": "https://localhost:8080/"
        },
        "id": "i5wdwlR-Ji3T",
        "outputId": "e5386e21-ec79-49cb-e2bb-b23c2b87fd25"
      },
      "source": [
        "df['thalach'].value_counts()\n",
        "\n",
        "# Não há uma concentração tão grande em uma mesmo valor\n"
      ],
      "execution_count": 21,
      "outputs": [
        {
          "output_type": "execute_result",
          "data": {
            "text/plain": [
              "162    11\n",
              "160     9\n",
              "163     9\n",
              "173     8\n",
              "152     8\n",
              "       ..\n",
              "129     1\n",
              "128     1\n",
              "127     1\n",
              "124     1\n",
              "71      1\n",
              "Name: thalach, Length: 91, dtype: int64"
            ]
          },
          "metadata": {},
          "execution_count": 21
        }
      ]
    },
    {
      "cell_type": "markdown",
      "metadata": {
        "id": "rxdBwSlXKYov"
      },
      "source": [
        "##3.9. Coluna exang\n",
        "Exercício físico que gerou Angina"
      ]
    },
    {
      "cell_type": "code",
      "metadata": {
        "colab": {
          "base_uri": "https://localhost:8080/"
        },
        "id": "9lHbo_dMKimv",
        "outputId": "16531f78-e780-45cc-fa84-ed456e2053c2"
      },
      "source": [
        "df['exang'].value_counts()\n",
        "\n",
        "# 66% do banco de dados não teve exercício físico que gerou Angina\n"
      ],
      "execution_count": 22,
      "outputs": [
        {
          "output_type": "execute_result",
          "data": {
            "text/plain": [
              "0    204\n",
              "1     99\n",
              "Name: exang, dtype: int64"
            ]
          },
          "metadata": {},
          "execution_count": 22
        }
      ]
    },
    {
      "cell_type": "markdown",
      "metadata": {
        "id": "IM--ISd4K9jk"
      },
      "source": [
        "##3.10. Coluna oldpeak\n",
        "Depressão de ST induzida por exercício em relação ao repouso"
      ]
    },
    {
      "cell_type": "markdown",
      "metadata": {
        "id": "LGpd-alqLK3-"
      },
      "source": [
        "###3.10.1. Histrograma"
      ]
    },
    {
      "cell_type": "code",
      "metadata": {
        "colab": {
          "base_uri": "https://localhost:8080/",
          "height": 303
        },
        "id": "Sx-NfL8rLM7Z",
        "outputId": "fe921eff-5f74-4c44-d5d7-b684604252e5"
      },
      "source": [
        "sns.histplot(x='oldpeak', data=df)\n",
        "\n",
        "# Imensa maioria do dataset possui valores baixos.\n"
      ],
      "execution_count": 23,
      "outputs": [
        {
          "output_type": "execute_result",
          "data": {
            "text/plain": [
              "<matplotlib.axes._subplots.AxesSubplot at 0x7fcb664b3ad0>"
            ]
          },
          "metadata": {},
          "execution_count": 23
        },
        {
          "output_type": "display_data",
          "data": {
            "image/png": "[encoded data removed]",
            "text/plain": [
              "<Figure size 432x288 with 1 Axes>"
            ]
          },
          "metadata": {
            "needs_background": "light"
          }
        }
      ]
    },
    {
      "cell_type": "markdown",
      "metadata": {
        "id": "qvHn15euLhRT"
      },
      "source": [
        "###3.10.2. Boxplot"
      ]
    },
    {
      "cell_type": "code",
      "metadata": {
        "colab": {
          "base_uri": "https://localhost:8080/",
          "height": 303
        },
        "id": "DspJmyrwLjJs",
        "outputId": "e7977ab6-2cd5-4446-89c8-f2517d2be046"
      },
      "source": [
        "sns.boxplot(x='target', y='oldpeak', data=df)\n",
        "\n",
        "# Presença de outliers nos dois casos.\n",
        "# Casos negativos aparentem ter oldpeak maior.\n"
      ],
      "execution_count": 24,
      "outputs": [
        {
          "output_type": "execute_result",
          "data": {
            "text/plain": [
              "<matplotlib.axes._subplots.AxesSubplot at 0x7fcb6645cc10>"
            ]
          },
          "metadata": {},
          "execution_count": 24
        },
        {
          "output_type": "display_data",
          "data": {
            "image/png": "[encoded data removed]",
            "text/plain": [
              "<Figure size 432x288 with 1 Axes>"
            ]
          },
          "metadata": {
            "needs_background": "light"
          }
        }
      ]
    },
    {
      "cell_type": "markdown",
      "metadata": {
        "id": "T4xIZQy4Lyi_"
      },
      "source": [
        "###3.10.3. Frequência"
      ]
    },
    {
      "cell_type": "code",
      "metadata": {
        "colab": {
          "base_uri": "https://localhost:8080/"
        },
        "id": "BrAZCGqIK-Ds",
        "outputId": "41b69a31-454f-4a83-b4cd-03f908fc20b9"
      },
      "source": [
        "df['oldpeak'].value_counts()\n",
        "\n",
        "# 33% do dataset possui valor 0."
      ],
      "execution_count": 25,
      "outputs": [
        {
          "output_type": "execute_result",
          "data": {
            "text/plain": [
              "0.000    99\n",
              "1.200    17\n",
              "0.600    14\n",
              "1.000    14\n",
              "0.800    13\n",
              "         ..\n",
              "0.700     1\n",
              "5.600     1\n",
              "3.800     1\n",
              "2.900     1\n",
              "3.500     1\n",
              "Name: oldpeak, Length: 40, dtype: int64"
            ]
          },
          "metadata": {},
          "execution_count": 25
        }
      ]
    },
    {
      "cell_type": "markdown",
      "metadata": {
        "id": "IOoTWVuTMCwN"
      },
      "source": [
        "##3.11. Coluna slope\n",
        "Tipo de inclinação do segmento ST de pico do exercício"
      ]
    },
    {
      "cell_type": "code",
      "metadata": {
        "colab": {
          "base_uri": "https://localhost:8080/"
        },
        "id": "FYy8xOWcMJOu",
        "outputId": "a6d6c0d9-5ca4-4e97-a67f-117b81742b14"
      },
      "source": [
        "df['slope'].value_counts()\n",
        "\n",
        "# 6,7% do dataset possui valor 0, o restante divide-se entre 1 ou 2.\n"
      ],
      "execution_count": 26,
      "outputs": [
        {
          "output_type": "execute_result",
          "data": {
            "text/plain": [
              "2    142\n",
              "1    140\n",
              "0     21\n",
              "Name: slope, dtype: int64"
            ]
          },
          "metadata": {},
          "execution_count": 26
        }
      ]
    },
    {
      "cell_type": "markdown",
      "metadata": {
        "id": "cQvj4a0uMWeP"
      },
      "source": [
        "##3.12. Coluna ca\n",
        "Número de vasos sanguínios ressaltados (coloridos por fluoroscopia)"
      ]
    },
    {
      "cell_type": "code",
      "metadata": {
        "colab": {
          "base_uri": "https://localhost:8080/"
        },
        "id": "xWsSc88ZMYHI",
        "outputId": "0339f53f-fca8-420b-b9e1-89687da44f7b"
      },
      "source": [
        "df['ca'].value_counts()\n",
        "\n",
        "# Mais de 50% do banco de dados não possui nenhum vaso sanguíneo ressaltado\n"
      ],
      "execution_count": 27,
      "outputs": [
        {
          "output_type": "execute_result",
          "data": {
            "text/plain": [
              "0    175\n",
              "1     65\n",
              "2     38\n",
              "3     20\n",
              "4      5\n",
              "Name: ca, dtype: int64"
            ]
          },
          "metadata": {},
          "execution_count": 27
        }
      ]
    },
    {
      "cell_type": "markdown",
      "metadata": {
        "id": "bUMp_kllMr79"
      },
      "source": [
        "##3.13. Coluna Thal\n",
        "Talassemia -> 3 = normal; 6 = fixed defect; 7 = reversable defect"
      ]
    },
    {
      "cell_type": "code",
      "metadata": {
        "colab": {
          "base_uri": "https://localhost:8080/"
        },
        "id": "6cszVkSwPtz5",
        "outputId": "12525331-95dd-4bd6-bc3d-20cba8933232"
      },
      "source": [
        "df['thal'].value_counts()\n",
        "\n",
        "# Dados não condizem com a legenda: dados variam de 0 a 3 e a legenda refere-se a 3, 6 ou 7.\n",
        "# Provavelmente os valores 0 são dados sujos, 1=Normal; 2=Fixed defect; 3=Reversable defect"
      ],
      "execution_count": 28,
      "outputs": [
        {
          "output_type": "execute_result",
          "data": {
            "text/plain": [
              "2    166\n",
              "3    117\n",
              "1     18\n",
              "0      2\n",
              "Name: thal, dtype: int64"
            ]
          },
          "metadata": {},
          "execution_count": 28
        }
      ]
    },
    {
      "cell_type": "markdown",
      "metadata": {
        "id": "NHwHLQTuDYjQ"
      },
      "source": [
        "###3.13.1 Removendo os valores 0"
      ]
    },
    {
      "cell_type": "code",
      "metadata": {
        "colab": {
          "base_uri": "https://localhost:8080/"
        },
        "id": "4ufHgkG6CVVE",
        "outputId": "601696da-5259-46a6-87ba-8c6e37158001"
      },
      "source": [
        "df= df[df['thal'] != 0]\n",
        "df['thal'].value_counts()"
      ],
      "execution_count": 29,
      "outputs": [
        {
          "output_type": "execute_result",
          "data": {
            "text/plain": [
              "2    166\n",
              "3    117\n",
              "1     18\n",
              "Name: thal, dtype: int64"
            ]
          },
          "metadata": {},
          "execution_count": 29
        }
      ]
    },
    {
      "cell_type": "markdown",
      "metadata": {
        "id": "Cg2g699fDeBD"
      },
      "source": [
        "###3.13.2. Transformando a variável em categórica"
      ]
    },
    {
      "cell_type": "code",
      "metadata": {
        "colab": {
          "base_uri": "https://localhost:8080/"
        },
        "id": "td7KxsOaDAiw",
        "outputId": "75fc8791-a5da-41db-c8af-a0c98ef23389"
      },
      "source": [
        "df['thal']=df['thal'].apply(lambda x: \"Normal\" if x==1 else (\"Fixed defect\" if x==2 else \"Reversable defect\"))\n",
        "df['thal'].value_counts()"
      ],
      "execution_count": 30,
      "outputs": [
        {
          "output_type": "execute_result",
          "data": {
            "text/plain": [
              "Fixed defect         166\n",
              "Reversable defect    117\n",
              "Normal                18\n",
              "Name: thal, dtype: int64"
            ]
          },
          "metadata": {},
          "execution_count": 30
        }
      ]
    },
    {
      "cell_type": "code",
      "metadata": {
        "colab": {
          "base_uri": "https://localhost:8080/"
        },
        "id": "3Ip_2oWqDXK5",
        "outputId": "47377475-f617-4be6-dd8d-8fbdf4d9b4fc"
      },
      "source": [
        "df['thal']=df['thal'].astype('category')\n",
        "df.info()"
      ],
      "execution_count": 31,
      "outputs": [
        {
          "output_type": "stream",
          "name": "stdout",
          "text": [
            "<class 'pandas.core.frame.DataFrame'>\n",
            "Int64Index: 301 entries, 0 to 302\n",
            "Data columns (total 14 columns):\n",
            " #   Column    Non-Null Count  Dtype   \n",
            "---  ------    --------------  -----   \n",
            " 0   age       301 non-null    int64   \n",
            " 1   sex       301 non-null    int64   \n",
            " 2   cp        301 non-null    int64   \n",
            " 3   trestbps  301 non-null    int64   \n",
            " 4   chol      301 non-null    int64   \n",
            " 5   fbs       301 non-null    int64   \n",
            " 6   restecg   301 non-null    int64   \n",
            " 7   thalach   301 non-null    int64   \n",
            " 8   exang     301 non-null    int64   \n",
            " 9   oldpeak   301 non-null    float64 \n",
            " 10  slope     301 non-null    int64   \n",
            " 11  ca        301 non-null    int64   \n",
            " 12  thal      301 non-null    category\n",
            " 13  target    301 non-null    int64   \n",
            "dtypes: category(1), float64(1), int64(12)\n",
            "memory usage: 33.3 KB\n"
          ]
        }
      ]
    },
    {
      "cell_type": "markdown",
      "metadata": {
        "id": "X1tbgEaVQywK"
      },
      "source": [
        "## 3.14. Variável TARGET"
      ]
    },
    {
      "cell_type": "code",
      "metadata": {
        "colab": {
          "base_uri": "https://localhost:8080/"
        },
        "id": "cxphPLTkQ1E9",
        "outputId": "ba68b98f-c451-4b1b-bfbd-269261ba92f8"
      },
      "source": [
        "df['target'].value_counts()\n",
        "\n",
        "# O número de casos positivos é próximo do número de casos negativos. Diminui a chance de vies do modelo.\n"
      ],
      "execution_count": 32,
      "outputs": [
        {
          "output_type": "execute_result",
          "data": {
            "text/plain": [
              "1    164\n",
              "0    137\n",
              "Name: target, dtype: int64"
            ]
          },
          "metadata": {},
          "execution_count": 32
        }
      ]
    },
    {
      "cell_type": "markdown",
      "metadata": {
        "id": "6i9ri4bCRF9t"
      },
      "source": [
        "# 3.15. Correlações"
      ]
    },
    {
      "cell_type": "code",
      "metadata": {
        "colab": {
          "base_uri": "https://localhost:8080/",
          "height": 422
        },
        "id": "JrZ2w50qRIY3",
        "outputId": "c30cdf09-6fa9-4aaf-ac5e-c22b31706387"
      },
      "source": [
        "df.corr()\n",
        "\n",
        "# A variável target possui correção forte com cp, thalach, exang, oldpeak, ca e thal."
      ],
      "execution_count": 33,
      "outputs": [
        {
          "output_type": "execute_result",
          "data": {
            "text/html": [
              "<div>\n",
              "<style scoped>\n",
              "    .dataframe tbody tr th:only-of-type {\n",
              "        vertical-align: middle;\n",
              "    }\n",
              "\n",
              "    .dataframe tbody tr th {\n",
              "        vertical-align: top;\n",
              "    }\n",
              "\n",
              "    .dataframe thead th {\n",
              "        text-align: right;\n",
              "    }\n",
              "</style>\n",
              "<table border=\"1\" class=\"dataframe\">\n",
              "  <thead>\n",
              "    <tr style=\"text-align: right;\">\n",
              "      <th></th>\n",
              "      <th>age</th>\n",
              "      <th>sex</th>\n",
              "      <th>cp</th>\n",
              "      <th>trestbps</th>\n",
              "      <th>chol</th>\n",
              "      <th>fbs</th>\n",
              "      <th>restecg</th>\n",
              "      <th>thalach</th>\n",
              "      <th>exang</th>\n",
              "      <th>oldpeak</th>\n",
              "      <th>slope</th>\n",
              "      <th>ca</th>\n",
              "      <th>target</th>\n",
              "    </tr>\n",
              "  </thead>\n",
              "  <tbody>\n",
              "    <tr>\n",
              "      <th>age</th>\n",
              "      <td>1.000</td>\n",
              "      <td>-0.099</td>\n",
              "      <td>-0.069</td>\n",
              "      <td>0.279</td>\n",
              "      <td>0.213</td>\n",
              "      <td>0.124</td>\n",
              "      <td>-0.116</td>\n",
              "      <td>-0.401</td>\n",
              "      <td>0.098</td>\n",
              "      <td>0.210</td>\n",
              "      <td>-0.169</td>\n",
              "      <td>0.276</td>\n",
              "      <td>-0.227</td>\n",
              "    </tr>\n",
              "    <tr>\n",
              "      <th>sex</th>\n",
              "      <td>-0.099</td>\n",
              "      <td>1.000</td>\n",
              "      <td>-0.043</td>\n",
              "      <td>-0.058</td>\n",
              "      <td>-0.200</td>\n",
              "      <td>0.038</td>\n",
              "      <td>-0.066</td>\n",
              "      <td>-0.052</td>\n",
              "      <td>0.136</td>\n",
              "      <td>0.092</td>\n",
              "      <td>-0.025</td>\n",
              "      <td>0.117</td>\n",
              "      <td>-0.276</td>\n",
              "    </tr>\n",
              "    <tr>\n",
              "      <th>cp</th>\n",
              "      <td>-0.069</td>\n",
              "      <td>-0.043</td>\n",
              "      <td>1.000</td>\n",
              "      <td>0.048</td>\n",
              "      <td>-0.078</td>\n",
              "      <td>0.105</td>\n",
              "      <td>0.051</td>\n",
              "      <td>0.304</td>\n",
              "      <td>-0.390</td>\n",
              "      <td>-0.147</td>\n",
              "      <td>0.115</td>\n",
              "      <td>-0.182</td>\n",
              "      <td>0.430</td>\n",
              "    </tr>\n",
              "    <tr>\n",
              "      <th>trestbps</th>\n",
              "      <td>0.279</td>\n",
              "      <td>-0.058</td>\n",
              "      <td>0.048</td>\n",
              "      <td>1.000</td>\n",
              "      <td>0.122</td>\n",
              "      <td>0.181</td>\n",
              "      <td>-0.115</td>\n",
              "      <td>-0.048</td>\n",
              "      <td>0.068</td>\n",
              "      <td>0.193</td>\n",
              "      <td>-0.122</td>\n",
              "      <td>0.101</td>\n",
              "      <td>-0.146</td>\n",
              "    </tr>\n",
              "    <tr>\n",
              "      <th>chol</th>\n",
              "      <td>0.213</td>\n",
              "      <td>-0.200</td>\n",
              "      <td>-0.078</td>\n",
              "      <td>0.122</td>\n",
              "      <td>1.000</td>\n",
              "      <td>0.019</td>\n",
              "      <td>-0.151</td>\n",
              "      <td>-0.012</td>\n",
              "      <td>0.070</td>\n",
              "      <td>0.052</td>\n",
              "      <td>-0.004</td>\n",
              "      <td>0.067</td>\n",
              "      <td>-0.087</td>\n",
              "    </tr>\n",
              "    <tr>\n",
              "      <th>...</th>\n",
              "      <td>...</td>\n",
              "      <td>...</td>\n",
              "      <td>...</td>\n",
              "      <td>...</td>\n",
              "      <td>...</td>\n",
              "      <td>...</td>\n",
              "      <td>...</td>\n",
              "      <td>...</td>\n",
              "      <td>...</td>\n",
              "      <td>...</td>\n",
              "      <td>...</td>\n",
              "      <td>...</td>\n",
              "      <td>...</td>\n",
              "    </tr>\n",
              "    <tr>\n",
              "      <th>exang</th>\n",
              "      <td>0.098</td>\n",
              "      <td>0.136</td>\n",
              "      <td>-0.390</td>\n",
              "      <td>0.068</td>\n",
              "      <td>0.070</td>\n",
              "      <td>0.014</td>\n",
              "      <td>-0.078</td>\n",
              "      <td>-0.387</td>\n",
              "      <td>1.000</td>\n",
              "      <td>0.288</td>\n",
              "      <td>-0.254</td>\n",
              "      <td>0.118</td>\n",
              "      <td>-0.433</td>\n",
              "    </tr>\n",
              "    <tr>\n",
              "      <th>oldpeak</th>\n",
              "      <td>0.210</td>\n",
              "      <td>0.092</td>\n",
              "      <td>-0.147</td>\n",
              "      <td>0.193</td>\n",
              "      <td>0.052</td>\n",
              "      <td>0.005</td>\n",
              "      <td>-0.062</td>\n",
              "      <td>-0.350</td>\n",
              "      <td>0.288</td>\n",
              "      <td>1.000</td>\n",
              "      <td>-0.577</td>\n",
              "      <td>0.221</td>\n",
              "      <td>-0.430</td>\n",
              "    </tr>\n",
              "    <tr>\n",
              "      <th>slope</th>\n",
              "      <td>-0.169</td>\n",
              "      <td>-0.025</td>\n",
              "      <td>0.115</td>\n",
              "      <td>-0.122</td>\n",
              "      <td>-0.004</td>\n",
              "      <td>-0.054</td>\n",
              "      <td>0.099</td>\n",
              "      <td>0.395</td>\n",
              "      <td>-0.254</td>\n",
              "      <td>-0.577</td>\n",
              "      <td>1.000</td>\n",
              "      <td>-0.080</td>\n",
              "      <td>0.343</td>\n",
              "    </tr>\n",
              "    <tr>\n",
              "      <th>ca</th>\n",
              "      <td>0.276</td>\n",
              "      <td>0.117</td>\n",
              "      <td>-0.182</td>\n",
              "      <td>0.101</td>\n",
              "      <td>0.067</td>\n",
              "      <td>0.144</td>\n",
              "      <td>-0.073</td>\n",
              "      <td>-0.217</td>\n",
              "      <td>0.118</td>\n",
              "      <td>0.221</td>\n",
              "      <td>-0.080</td>\n",
              "      <td>1.000</td>\n",
              "      <td>-0.394</td>\n",
              "    </tr>\n",
              "    <tr>\n",
              "      <th>target</th>\n",
              "      <td>-0.227</td>\n",
              "      <td>-0.276</td>\n",
              "      <td>0.430</td>\n",
              "      <td>-0.146</td>\n",
              "      <td>-0.087</td>\n",
              "      <td>-0.018</td>\n",
              "      <td>0.144</td>\n",
              "      <td>0.430</td>\n",
              "      <td>-0.433</td>\n",
              "      <td>-0.430</td>\n",
              "      <td>0.343</td>\n",
              "      <td>-0.394</td>\n",
              "      <td>1.000</td>\n",
              "    </tr>\n",
              "  </tbody>\n",
              "</table>\n",
              "<p>13 rows × 13 columns</p>\n",
              "</div>"
            ],
            "text/plain": [
              "            age    sex     cp  trestbps  ...  oldpeak  slope     ca  target\n",
              "age       1.000 -0.099 -0.069     0.279  ...    0.210 -0.169  0.276  -0.227\n",
              "sex      -0.099  1.000 -0.043    -0.058  ...    0.092 -0.025  0.117  -0.276\n",
              "cp       -0.069 -0.043  1.000     0.048  ...   -0.147  0.115 -0.182   0.430\n",
              "trestbps  0.279 -0.058  0.048     1.000  ...    0.193 -0.122  0.101  -0.146\n",
              "chol      0.213 -0.200 -0.078     0.122  ...    0.052 -0.004  0.067  -0.087\n",
              "...         ...    ...    ...       ...  ...      ...    ...    ...     ...\n",
              "exang     0.098  0.136 -0.390     0.068  ...    0.288 -0.254  0.118  -0.433\n",
              "oldpeak   0.210  0.092 -0.147     0.193  ...    1.000 -0.577  0.221  -0.430\n",
              "slope    -0.169 -0.025  0.115    -0.122  ...   -0.577  1.000 -0.080   0.343\n",
              "ca        0.276  0.117 -0.182     0.101  ...    0.221 -0.080  1.000  -0.394\n",
              "target   -0.227 -0.276  0.430    -0.146  ...   -0.430  0.343 -0.394   1.000\n",
              "\n",
              "[13 rows x 13 columns]"
            ]
          },
          "metadata": {},
          "execution_count": 33
        }
      ]
    },
    {
      "cell_type": "markdown",
      "metadata": {
        "id": "3o0oZLrzUHcc"
      },
      "source": [
        "##3.16 CONCLUSÕES"
      ]
    },
    {
      "cell_type": "code",
      "metadata": {
        "id": "3yuX1n_uUL2A"
      },
      "source": [
        "target = ['target']\n",
        "Variaveis_categoricas = ['thal', 'slope']\n",
        "Variaveis_discretas = ['cp', 'ca','oldpeak', 'resteg']\n",
        "Variaveis_booleanas = ['sex', 'fbs', 'exang']\n",
        "Variaveis_continuas = ['age','trestbps','chol','thalach']\n",
        "features = Variaveis_categoricas + Variaveis_discretas + Variaveis_booleanas + Variaveis_continuas"
      ],
      "execution_count": 34,
      "outputs": []
    },
    {
      "cell_type": "markdown",
      "metadata": {
        "id": "NMxdqlOpA1QT"
      },
      "source": [
        "#4. Transformações e Modelagem"
      ]
    },
    {
      "cell_type": "markdown",
      "metadata": {
        "id": "I3yQdf2NK876"
      },
      "source": [
        "##4.1. Classificando as features"
      ]
    },
    {
      "cell_type": "code",
      "metadata": {
        "id": "JoUz5Tt1A5xO",
        "colab": {
          "base_uri": "https://localhost:8080/"
        },
        "outputId": "8672e715-c5f4-43fa-d1f3-e38fc11e13ee"
      },
      "source": [
        "df[Variaveis_categoricas]=df[Variaveis_categoricas].astype('category')\n",
        "#df[Variaveis_booleanas]=df[Variaveis_booleanas].astype('boolean')\n",
        "df.info()"
      ],
      "execution_count": 35,
      "outputs": [
        {
          "output_type": "stream",
          "name": "stdout",
          "text": [
            "<class 'pandas.core.frame.DataFrame'>\n",
            "Int64Index: 301 entries, 0 to 302\n",
            "Data columns (total 14 columns):\n",
            " #   Column    Non-Null Count  Dtype   \n",
            "---  ------    --------------  -----   \n",
            " 0   age       301 non-null    int64   \n",
            " 1   sex       301 non-null    int64   \n",
            " 2   cp        301 non-null    int64   \n",
            " 3   trestbps  301 non-null    int64   \n",
            " 4   chol      301 non-null    int64   \n",
            " 5   fbs       301 non-null    int64   \n",
            " 6   restecg   301 non-null    int64   \n",
            " 7   thalach   301 non-null    int64   \n",
            " 8   exang     301 non-null    int64   \n",
            " 9   oldpeak   301 non-null    float64 \n",
            " 10  slope     301 non-null    category\n",
            " 11  ca        301 non-null    int64   \n",
            " 12  thal      301 non-null    category\n",
            " 13  target    301 non-null    int64   \n",
            "dtypes: category(2), float64(1), int64(11)\n",
            "memory usage: 31.4 KB\n"
          ]
        }
      ]
    },
    {
      "cell_type": "markdown",
      "metadata": {
        "id": "UpE6jrdIFPUM"
      },
      "source": [
        "##4.2. Normalizando as variáveis contínuas"
      ]
    },
    {
      "cell_type": "code",
      "metadata": {
        "id": "-3hOM2_DFWs9"
      },
      "source": [
        "scaler = StandardScaler()\n",
        "scaler.fit(df[Variaveis_continuas])\n",
        "df_Test=scaler.transform(df[Variaveis_continuas])"
      ],
      "execution_count": 36,
      "outputs": []
    },
    {
      "cell_type": "code",
      "metadata": {
        "colab": {
          "base_uri": "https://localhost:8080/",
          "height": 205
        },
        "id": "Uri-ifAGHBdm",
        "outputId": "b06c8eb0-7fdb-438c-dae7-699349a80047"
      },
      "source": [
        "df_Test = pd.DataFrame(data=df_Test)\n",
        "df_Test.head()"
      ],
      "execution_count": 37,
      "outputs": [
        {
          "output_type": "execute_result",
          "data": {
            "text/html": [
              "<div>\n",
              "<style scoped>\n",
              "    .dataframe tbody tr th:only-of-type {\n",
              "        vertical-align: middle;\n",
              "    }\n",
              "\n",
              "    .dataframe tbody tr th {\n",
              "        vertical-align: top;\n",
              "    }\n",
              "\n",
              "    .dataframe thead th {\n",
              "        text-align: right;\n",
              "    }\n",
              "</style>\n",
              "<table border=\"1\" class=\"dataframe\">\n",
              "  <thead>\n",
              "    <tr style=\"text-align: right;\">\n",
              "      <th></th>\n",
              "      <th>0</th>\n",
              "      <th>1</th>\n",
              "      <th>2</th>\n",
              "      <th>3</th>\n",
              "    </tr>\n",
              "  </thead>\n",
              "  <tbody>\n",
              "    <tr>\n",
              "      <th>0</th>\n",
              "      <td>0.948</td>\n",
              "      <td>0.760</td>\n",
              "      <td>-0.261</td>\n",
              "      <td>0.011</td>\n",
              "    </tr>\n",
              "    <tr>\n",
              "      <th>1</th>\n",
              "      <td>-1.911</td>\n",
              "      <td>-0.094</td>\n",
              "      <td>0.067</td>\n",
              "      <td>1.630</td>\n",
              "    </tr>\n",
              "    <tr>\n",
              "      <th>2</th>\n",
              "      <td>-1.471</td>\n",
              "      <td>-0.094</td>\n",
              "      <td>-0.820</td>\n",
              "      <td>0.974</td>\n",
              "    </tr>\n",
              "    <tr>\n",
              "      <th>3</th>\n",
              "      <td>0.178</td>\n",
              "      <td>-0.663</td>\n",
              "      <td>-0.203</td>\n",
              "      <td>1.237</td>\n",
              "    </tr>\n",
              "    <tr>\n",
              "      <th>4</th>\n",
              "      <td>0.288</td>\n",
              "      <td>-0.663</td>\n",
              "      <td>2.074</td>\n",
              "      <td>0.580</td>\n",
              "    </tr>\n",
              "  </tbody>\n",
              "</table>\n",
              "</div>"
            ],
            "text/plain": [
              "       0      1      2     3\n",
              "0  0.948  0.760 -0.261 0.011\n",
              "1 -1.911 -0.094  0.067 1.630\n",
              "2 -1.471 -0.094 -0.820 0.974\n",
              "3  0.178 -0.663 -0.203 1.237\n",
              "4  0.288 -0.663  2.074 0.580"
            ]
          },
          "metadata": {},
          "execution_count": 37
        }
      ]
    },
    {
      "cell_type": "code",
      "metadata": {
        "colab": {
          "base_uri": "https://localhost:8080/",
          "height": 205
        },
        "id": "RIm6QId4IOO0",
        "outputId": "48bdcd29-6d04-49da-e6aa-47df86dc6b1d"
      },
      "source": [
        "df_Test = df_Test.rename(columns={0:'age', 1:'trestbps', 2:'chol', 3:'thalach'})\n",
        "df_Test.head()"
      ],
      "execution_count": 38,
      "outputs": [
        {
          "output_type": "execute_result",
          "data": {
            "text/html": [
              "<div>\n",
              "<style scoped>\n",
              "    .dataframe tbody tr th:only-of-type {\n",
              "        vertical-align: middle;\n",
              "    }\n",
              "\n",
              "    .dataframe tbody tr th {\n",
              "        vertical-align: top;\n",
              "    }\n",
              "\n",
              "    .dataframe thead th {\n",
              "        text-align: right;\n",
              "    }\n",
              "</style>\n",
              "<table border=\"1\" class=\"dataframe\">\n",
              "  <thead>\n",
              "    <tr style=\"text-align: right;\">\n",
              "      <th></th>\n",
              "      <th>age</th>\n",
              "      <th>trestbps</th>\n",
              "      <th>chol</th>\n",
              "      <th>thalach</th>\n",
              "    </tr>\n",
              "  </thead>\n",
              "  <tbody>\n",
              "    <tr>\n",
              "      <th>0</th>\n",
              "      <td>0.948</td>\n",
              "      <td>0.760</td>\n",
              "      <td>-0.261</td>\n",
              "      <td>0.011</td>\n",
              "    </tr>\n",
              "    <tr>\n",
              "      <th>1</th>\n",
              "      <td>-1.911</td>\n",
              "      <td>-0.094</td>\n",
              "      <td>0.067</td>\n",
              "      <td>1.630</td>\n",
              "    </tr>\n",
              "    <tr>\n",
              "      <th>2</th>\n",
              "      <td>-1.471</td>\n",
              "      <td>-0.094</td>\n",
              "      <td>-0.820</td>\n",
              "      <td>0.974</td>\n",
              "    </tr>\n",
              "    <tr>\n",
              "      <th>3</th>\n",
              "      <td>0.178</td>\n",
              "      <td>-0.663</td>\n",
              "      <td>-0.203</td>\n",
              "      <td>1.237</td>\n",
              "    </tr>\n",
              "    <tr>\n",
              "      <th>4</th>\n",
              "      <td>0.288</td>\n",
              "      <td>-0.663</td>\n",
              "      <td>2.074</td>\n",
              "      <td>0.580</td>\n",
              "    </tr>\n",
              "  </tbody>\n",
              "</table>\n",
              "</div>"
            ],
            "text/plain": [
              "     age  trestbps   chol  thalach\n",
              "0  0.948     0.760 -0.261    0.011\n",
              "1 -1.911    -0.094  0.067    1.630\n",
              "2 -1.471    -0.094 -0.820    0.974\n",
              "3  0.178    -0.663 -0.203    1.237\n",
              "4  0.288    -0.663  2.074    0.580"
            ]
          },
          "metadata": {},
          "execution_count": 38
        }
      ]
    },
    {
      "cell_type": "code",
      "metadata": {
        "id": "3SpoLYi8IpTi"
      },
      "source": [
        "df=df.drop(columns=Variaveis_continuas)"
      ],
      "execution_count": 39,
      "outputs": []
    },
    {
      "cell_type": "code",
      "metadata": {
        "colab": {
          "base_uri": "https://localhost:8080/",
          "height": 205
        },
        "id": "guNbITO-GEti",
        "outputId": "4dc7d555-860f-4c2a-c671-39fbf26c56e7"
      },
      "source": [
        "df=pd.concat([df, df_Test], axis=1)\n",
        "df.head()"
      ],
      "execution_count": 40,
      "outputs": [
        {
          "output_type": "execute_result",
          "data": {
            "text/html": [
              "<div>\n",
              "<style scoped>\n",
              "    .dataframe tbody tr th:only-of-type {\n",
              "        vertical-align: middle;\n",
              "    }\n",
              "\n",
              "    .dataframe tbody tr th {\n",
              "        vertical-align: top;\n",
              "    }\n",
              "\n",
              "    .dataframe thead th {\n",
              "        text-align: right;\n",
              "    }\n",
              "</style>\n",
              "<table border=\"1\" class=\"dataframe\">\n",
              "  <thead>\n",
              "    <tr style=\"text-align: right;\">\n",
              "      <th></th>\n",
              "      <th>sex</th>\n",
              "      <th>cp</th>\n",
              "      <th>fbs</th>\n",
              "      <th>restecg</th>\n",
              "      <th>exang</th>\n",
              "      <th>oldpeak</th>\n",
              "      <th>slope</th>\n",
              "      <th>ca</th>\n",
              "      <th>thal</th>\n",
              "      <th>target</th>\n",
              "      <th>age</th>\n",
              "      <th>trestbps</th>\n",
              "      <th>chol</th>\n",
              "      <th>thalach</th>\n",
              "    </tr>\n",
              "  </thead>\n",
              "  <tbody>\n",
              "    <tr>\n",
              "      <th>0</th>\n",
              "      <td>1.000</td>\n",
              "      <td>3.000</td>\n",
              "      <td>1.000</td>\n",
              "      <td>0.000</td>\n",
              "      <td>0.000</td>\n",
              "      <td>2.300</td>\n",
              "      <td>0</td>\n",
              "      <td>0.000</td>\n",
              "      <td>Normal</td>\n",
              "      <td>1.000</td>\n",
              "      <td>0.948</td>\n",
              "      <td>0.760</td>\n",
              "      <td>-0.261</td>\n",
              "      <td>0.011</td>\n",
              "    </tr>\n",
              "    <tr>\n",
              "      <th>1</th>\n",
              "      <td>1.000</td>\n",
              "      <td>2.000</td>\n",
              "      <td>0.000</td>\n",
              "      <td>1.000</td>\n",
              "      <td>0.000</td>\n",
              "      <td>3.500</td>\n",
              "      <td>0</td>\n",
              "      <td>0.000</td>\n",
              "      <td>Fixed defect</td>\n",
              "      <td>1.000</td>\n",
              "      <td>-1.911</td>\n",
              "      <td>-0.094</td>\n",
              "      <td>0.067</td>\n",
              "      <td>1.630</td>\n",
              "    </tr>\n",
              "    <tr>\n",
              "      <th>2</th>\n",
              "      <td>0.000</td>\n",
              "      <td>1.000</td>\n",
              "      <td>0.000</td>\n",
              "      <td>0.000</td>\n",
              "      <td>0.000</td>\n",
              "      <td>1.400</td>\n",
              "      <td>2</td>\n",
              "      <td>0.000</td>\n",
              "      <td>Fixed defect</td>\n",
              "      <td>1.000</td>\n",
              "      <td>-1.471</td>\n",
              "      <td>-0.094</td>\n",
              "      <td>-0.820</td>\n",
              "      <td>0.974</td>\n",
              "    </tr>\n",
              "    <tr>\n",
              "      <th>3</th>\n",
              "      <td>1.000</td>\n",
              "      <td>1.000</td>\n",
              "      <td>0.000</td>\n",
              "      <td>1.000</td>\n",
              "      <td>0.000</td>\n",
              "      <td>0.800</td>\n",
              "      <td>2</td>\n",
              "      <td>0.000</td>\n",
              "      <td>Fixed defect</td>\n",
              "      <td>1.000</td>\n",
              "      <td>0.178</td>\n",
              "      <td>-0.663</td>\n",
              "      <td>-0.203</td>\n",
              "      <td>1.237</td>\n",
              "    </tr>\n",
              "    <tr>\n",
              "      <th>4</th>\n",
              "      <td>0.000</td>\n",
              "      <td>0.000</td>\n",
              "      <td>0.000</td>\n",
              "      <td>1.000</td>\n",
              "      <td>1.000</td>\n",
              "      <td>0.600</td>\n",
              "      <td>2</td>\n",
              "      <td>0.000</td>\n",
              "      <td>Fixed defect</td>\n",
              "      <td>1.000</td>\n",
              "      <td>0.288</td>\n",
              "      <td>-0.663</td>\n",
              "      <td>2.074</td>\n",
              "      <td>0.580</td>\n",
              "    </tr>\n",
              "  </tbody>\n",
              "</table>\n",
              "</div>"
            ],
            "text/plain": [
              "    sex    cp   fbs  restecg  exang  ...  target    age  trestbps   chol  thalach\n",
              "0 1.000 3.000 1.000    0.000  0.000  ...   1.000  0.948     0.760 -0.261    0.011\n",
              "1 1.000 2.000 0.000    1.000  0.000  ...   1.000 -1.911    -0.094  0.067    1.630\n",
              "2 0.000 1.000 0.000    0.000  0.000  ...   1.000 -1.471    -0.094 -0.820    0.974\n",
              "3 1.000 1.000 0.000    1.000  0.000  ...   1.000  0.178    -0.663 -0.203    1.237\n",
              "4 0.000 0.000 0.000    1.000  1.000  ...   1.000  0.288    -0.663  2.074    0.580\n",
              "\n",
              "[5 rows x 14 columns]"
            ]
          },
          "metadata": {},
          "execution_count": 40
        }
      ]
    },
    {
      "cell_type": "code",
      "metadata": {
        "colab": {
          "base_uri": "https://localhost:8080/",
          "height": 205
        },
        "id": "T8BMtzoWNAfy",
        "outputId": "eb330c4c-b376-4d03-98d1-82bf1ee1cce6"
      },
      "source": [
        "df = pd.get_dummies(df)\n",
        "df.head()"
      ],
      "execution_count": 47,
      "outputs": [
        {
          "output_type": "execute_result",
          "data": {
            "text/html": [
              "<div>\n",
              "<style scoped>\n",
              "    .dataframe tbody tr th:only-of-type {\n",
              "        vertical-align: middle;\n",
              "    }\n",
              "\n",
              "    .dataframe tbody tr th {\n",
              "        vertical-align: top;\n",
              "    }\n",
              "\n",
              "    .dataframe thead th {\n",
              "        text-align: right;\n",
              "    }\n",
              "</style>\n",
              "<table border=\"1\" class=\"dataframe\">\n",
              "  <thead>\n",
              "    <tr style=\"text-align: right;\">\n",
              "      <th></th>\n",
              "      <th>sex</th>\n",
              "      <th>cp</th>\n",
              "      <th>fbs</th>\n",
              "      <th>restecg</th>\n",
              "      <th>exang</th>\n",
              "      <th>oldpeak</th>\n",
              "      <th>ca</th>\n",
              "      <th>target</th>\n",
              "      <th>age</th>\n",
              "      <th>trestbps</th>\n",
              "      <th>chol</th>\n",
              "      <th>thalach</th>\n",
              "      <th>slope_0</th>\n",
              "      <th>slope_1</th>\n",
              "      <th>slope_2</th>\n",
              "      <th>thal_Fixed defect</th>\n",
              "      <th>thal_Normal</th>\n",
              "      <th>thal_Reversable defect</th>\n",
              "    </tr>\n",
              "  </thead>\n",
              "  <tbody>\n",
              "    <tr>\n",
              "      <th>0</th>\n",
              "      <td>1.000</td>\n",
              "      <td>3.000</td>\n",
              "      <td>1.000</td>\n",
              "      <td>0.000</td>\n",
              "      <td>0.000</td>\n",
              "      <td>2.300</td>\n",
              "      <td>0.000</td>\n",
              "      <td>1.000</td>\n",
              "      <td>0.948</td>\n",
              "      <td>0.760</td>\n",
              "      <td>-0.261</td>\n",
              "      <td>0.011</td>\n",
              "      <td>1</td>\n",
              "      <td>0</td>\n",
              "      <td>0</td>\n",
              "      <td>0</td>\n",
              "      <td>1</td>\n",
              "      <td>0</td>\n",
              "    </tr>\n",
              "    <tr>\n",
              "      <th>1</th>\n",
              "      <td>1.000</td>\n",
              "      <td>2.000</td>\n",
              "      <td>0.000</td>\n",
              "      <td>1.000</td>\n",
              "      <td>0.000</td>\n",
              "      <td>3.500</td>\n",
              "      <td>0.000</td>\n",
              "      <td>1.000</td>\n",
              "      <td>-1.911</td>\n",
              "      <td>-0.094</td>\n",
              "      <td>0.067</td>\n",
              "      <td>1.630</td>\n",
              "      <td>1</td>\n",
              "      <td>0</td>\n",
              "      <td>0</td>\n",
              "      <td>1</td>\n",
              "      <td>0</td>\n",
              "      <td>0</td>\n",
              "    </tr>\n",
              "    <tr>\n",
              "      <th>2</th>\n",
              "      <td>0.000</td>\n",
              "      <td>1.000</td>\n",
              "      <td>0.000</td>\n",
              "      <td>0.000</td>\n",
              "      <td>0.000</td>\n",
              "      <td>1.400</td>\n",
              "      <td>0.000</td>\n",
              "      <td>1.000</td>\n",
              "      <td>-1.471</td>\n",
              "      <td>-0.094</td>\n",
              "      <td>-0.820</td>\n",
              "      <td>0.974</td>\n",
              "      <td>0</td>\n",
              "      <td>0</td>\n",
              "      <td>1</td>\n",
              "      <td>1</td>\n",
              "      <td>0</td>\n",
              "      <td>0</td>\n",
              "    </tr>\n",
              "    <tr>\n",
              "      <th>3</th>\n",
              "      <td>1.000</td>\n",
              "      <td>1.000</td>\n",
              "      <td>0.000</td>\n",
              "      <td>1.000</td>\n",
              "      <td>0.000</td>\n",
              "      <td>0.800</td>\n",
              "      <td>0.000</td>\n",
              "      <td>1.000</td>\n",
              "      <td>0.178</td>\n",
              "      <td>-0.663</td>\n",
              "      <td>-0.203</td>\n",
              "      <td>1.237</td>\n",
              "      <td>0</td>\n",
              "      <td>0</td>\n",
              "      <td>1</td>\n",
              "      <td>1</td>\n",
              "      <td>0</td>\n",
              "      <td>0</td>\n",
              "    </tr>\n",
              "    <tr>\n",
              "      <th>4</th>\n",
              "      <td>0.000</td>\n",
              "      <td>0.000</td>\n",
              "      <td>0.000</td>\n",
              "      <td>1.000</td>\n",
              "      <td>1.000</td>\n",
              "      <td>0.600</td>\n",
              "      <td>0.000</td>\n",
              "      <td>1.000</td>\n",
              "      <td>0.288</td>\n",
              "      <td>-0.663</td>\n",
              "      <td>2.074</td>\n",
              "      <td>0.580</td>\n",
              "      <td>0</td>\n",
              "      <td>0</td>\n",
              "      <td>1</td>\n",
              "      <td>1</td>\n",
              "      <td>0</td>\n",
              "      <td>0</td>\n",
              "    </tr>\n",
              "  </tbody>\n",
              "</table>\n",
              "</div>"
            ],
            "text/plain": [
              "    sex    cp   fbs  ...  thal_Fixed defect  thal_Normal  thal_Reversable defect\n",
              "0 1.000 3.000 1.000  ...                  0            1                       0\n",
              "1 1.000 2.000 0.000  ...                  1            0                       0\n",
              "2 0.000 1.000 0.000  ...                  1            0                       0\n",
              "3 1.000 1.000 0.000  ...                  1            0                       0\n",
              "4 0.000 0.000 0.000  ...                  1            0                       0\n",
              "\n",
              "[5 rows x 18 columns]"
            ]
          },
          "metadata": {},
          "execution_count": 47
        }
      ]
    },
    {
      "cell_type": "code",
      "metadata": {
        "colab": {
          "base_uri": "https://localhost:8080/"
        },
        "id": "49njL4b41BWO",
        "outputId": "6519256c-3cf0-4c78-b0c4-7a2a7cc91ea6"
      },
      "source": [
        "df.dropna(inplace=True)\n",
        "df.info()"
      ],
      "execution_count": 55,
      "outputs": [
        {
          "output_type": "stream",
          "name": "stdout",
          "text": [
            "<class 'pandas.core.frame.DataFrame'>\n",
            "Int64Index: 299 entries, 0 to 300\n",
            "Data columns (total 18 columns):\n",
            " #   Column                  Non-Null Count  Dtype  \n",
            "---  ------                  --------------  -----  \n",
            " 0   sex                     299 non-null    float64\n",
            " 1   cp                      299 non-null    float64\n",
            " 2   fbs                     299 non-null    float64\n",
            " 3   restecg                 299 non-null    float64\n",
            " 4   exang                   299 non-null    float64\n",
            " 5   oldpeak                 299 non-null    float64\n",
            " 6   ca                      299 non-null    float64\n",
            " 7   target                  299 non-null    float64\n",
            " 8   age                     299 non-null    float64\n",
            " 9   trestbps                299 non-null    float64\n",
            " 10  chol                    299 non-null    float64\n",
            " 11  thalach                 299 non-null    float64\n",
            " 12  slope_0                 299 non-null    uint8  \n",
            " 13  slope_1                 299 non-null    uint8  \n",
            " 14  slope_2                 299 non-null    uint8  \n",
            " 15  thal_Fixed defect       299 non-null    uint8  \n",
            " 16  thal_Normal             299 non-null    uint8  \n",
            " 17  thal_Reversable defect  299 non-null    uint8  \n",
            "dtypes: float64(12), uint8(6)\n",
            "memory usage: 32.1 KB\n"
          ]
        }
      ]
    },
    {
      "cell_type": "code",
      "metadata": {
        "id": "4eIBSScUJWlk"
      },
      "source": [
        "df_Clean = df.copy()"
      ],
      "execution_count": 56,
      "outputs": []
    },
    {
      "cell_type": "markdown",
      "metadata": {
        "id": "Hk2TpwbgJdY3"
      },
      "source": [
        "#5. Testando modelos\n",
        "Devido ao tipo do problema, escolheu-se utilizar um modelo de calssificação não supervisionado visto que o tamanho do dataset é pequeno (300 linhas) e que o target é \"Possui doença coranária\" ou \"Não possui doença coranária\""
      ]
    },
    {
      "cell_type": "code",
      "metadata": {
        "colab": {
          "base_uri": "https://localhost:8080/"
        },
        "id": "PNwVELHLJ05C",
        "outputId": "1eb7176f-bf46-4740-d997-8ff76592a0ff"
      },
      "source": [
        "# Dividindo entre features e target\n",
        "y = df['target']\n",
        "X = df.drop(columns={'target'})\n",
        "print(X.shape, y.shape)"
      ],
      "execution_count": 57,
      "outputs": [
        {
          "output_type": "stream",
          "name": "stdout",
          "text": [
            "(299, 17) (299,)\n"
          ]
        }
      ]
    },
    {
      "cell_type": "code",
      "metadata": {
        "colab": {
          "base_uri": "https://localhost:8080/"
        },
        "id": "y_i4PKIkSOyG",
        "outputId": "d14336d0-1348-404a-f804-62c08e49b125"
      },
      "source": [
        "y.dtypes"
      ],
      "execution_count": 58,
      "outputs": [
        {
          "output_type": "execute_result",
          "data": {
            "text/plain": [
              "dtype('float64')"
            ]
          },
          "metadata": {},
          "execution_count": 58
        }
      ]
    },
    {
      "cell_type": "code",
      "metadata": {
        "colab": {
          "base_uri": "https://localhost:8080/"
        },
        "id": "wl5Zuj5qU4ha",
        "outputId": "87b0f9e0-6b46-4efb-f9b2-3e8c55f7a6ef"
      },
      "source": [
        "np.isnan(y).any()"
      ],
      "execution_count": 59,
      "outputs": [
        {
          "output_type": "execute_result",
          "data": {
            "text/plain": [
              "False"
            ]
          },
          "metadata": {},
          "execution_count": 59
        }
      ]
    },
    {
      "cell_type": "markdown",
      "metadata": {
        "id": "YzRGqcTZNrKS"
      },
      "source": [
        "##5.2. RandomForestClassifier"
      ]
    },
    {
      "cell_type": "code",
      "metadata": {
        "id": "_AjCA_fdNvJp"
      },
      "source": [
        "from sklearn.ensemble import RandomForestClassifier\n",
        "clf = RandomForestClassifier(max_depth=2, random_state=0)\n",
        "clf.fit(X, y)\n",
        "y_pred = clf.predict(X)"
      ],
      "execution_count": 63,
      "outputs": []
    },
    {
      "cell_type": "code",
      "metadata": {
        "colab": {
          "base_uri": "https://localhost:8080/"
        },
        "id": "K5EyFr4E1nrk",
        "outputId": "3295fe19-5b94-4ed9-cdd1-69fe1caf62b6"
      },
      "source": [
        "from sklearn.metrics import f1_score\n",
        "print(f1_score(y, y_pred))"
      ],
      "execution_count": 64,
      "outputs": [
        {
          "output_type": "stream",
          "name": "stdout",
          "text": [
            "0.8823529411764706\n"
          ]
        }
      ]
    },
    {
      "cell_type": "markdown",
      "metadata": {
        "id": "9DfFro9F2HtS"
      },
      "source": [
        "##5.3. AgglomerativeClustering"
      ]
    },
    {
      "cell_type": "code",
      "metadata": {
        "id": "resr7Xf12M4A"
      },
      "source": [
        "import scipy.cluster.hierarchy as shc\n",
        "from sklearn.cluster import AgglomerativeClustering\n",
        "\n",
        "cluster = AgglomerativeClustering(n_clusters=2)  \n",
        "labels = cluster.fit_predict(X, y)\n",
        "y_pred=labels.astype('int64') # aqui atribuimos o numero de cada clusters"
      ],
      "execution_count": 69,
      "outputs": []
    },
    {
      "cell_type": "code",
      "metadata": {
        "colab": {
          "base_uri": "https://localhost:8080/"
        },
        "id": "pKZa12OV2cN2",
        "outputId": "e891e477-8e53-46ea-cf0c-62454a5538a5"
      },
      "source": [
        "print(f1_score(y, y_pred)) # Acurácia baixa pois pontos próximos do dataset possuem classificações diferentes"
      ],
      "execution_count": 70,
      "outputs": [
        {
          "output_type": "stream",
          "name": "stdout",
          "text": [
            "0.7866666666666666\n"
          ]
        }
      ]
    },
    {
      "cell_type": "markdown",
      "metadata": {
        "id": "Clp9pJRJ2q5J"
      },
      "source": [
        "#6. Otimizando modelo por RandomForestClassifier"
      ]
    },
    {
      "cell_type": "code",
      "metadata": {
        "id": "qPmdIzmd2x9b"
      },
      "source": [
        "from sklearn.model_selection import GridSearchCV\n",
        "n_estimators = [100, 300, 500]\n",
        "max_depth = [5, 25, 30]\n",
        "min_samples_split = [2, 15, 100]\n",
        "min_samples_leaf = [1, 10] \n",
        "forest = RandomForestClassifier(random_state = 1)\n",
        "hyperF = dict(n_estimators = n_estimators, max_depth = max_depth,  \n",
        "              min_samples_split = min_samples_split, \n",
        "             min_samples_leaf = min_samples_leaf)\n",
        "\n",
        "gridF = GridSearchCV(forest, hyperF, cv = 3, verbose = 1, \n",
        "                      n_jobs = -1)"
      ],
      "execution_count": 77,
      "outputs": []
    },
    {
      "cell_type": "code",
      "metadata": {
        "colab": {
          "base_uri": "https://localhost:8080/"
        },
        "id": "0f89kgix4mUw",
        "outputId": "7d594cb3-8b34-414b-f75f-317281c490a0"
      },
      "source": [
        "bestF = gridF.fit(X, y)"
      ],
      "execution_count": 78,
      "outputs": [
        {
          "output_type": "stream",
          "name": "stdout",
          "text": [
            "Fitting 3 folds for each of 54 candidates, totalling 162 fits\n"
          ]
        },
        {
          "output_type": "stream",
          "name": "stderr",
          "text": [
            "[Parallel(n_jobs=-1)]: Using backend LokyBackend with 2 concurrent workers.\n",
            "[Parallel(n_jobs=-1)]: Done  46 tasks      | elapsed:   17.2s\n",
            "[Parallel(n_jobs=-1)]: Done 162 out of 162 | elapsed:  1.0min finished\n"
          ]
        }
      ]
    },
    {
      "cell_type": "code",
      "metadata": {
        "colab": {
          "base_uri": "https://localhost:8080/"
        },
        "id": "Os9JK3Lv814K",
        "outputId": "634ab939-8b1a-4454-dc9b-6e721686219d"
      },
      "source": [
        "y_pred = bestF.predict(X)\n",
        "print(f1_score(y, y_pred))"
      ],
      "execution_count": 79,
      "outputs": [
        {
          "output_type": "stream",
          "name": "stdout",
          "text": [
            "1.0\n"
          ]
        }
      ]
    }
  ]
}